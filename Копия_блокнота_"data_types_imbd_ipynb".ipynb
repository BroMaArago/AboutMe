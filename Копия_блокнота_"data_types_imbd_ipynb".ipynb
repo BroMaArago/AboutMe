{
  "nbformat": 4,
  "nbformat_minor": 0,
  "metadata": {
    "colab": {
      "provenance": [],
      "include_colab_link": true
    },
    "kernelspec": {
      "name": "python3",
      "display_name": "Python 3"
    },
    "language_info": {
      "name": "python"
    }
  },
  "cells": [
    {
      "cell_type": "markdown",
      "metadata": {
        "id": "view-in-github",
        "colab_type": "text"
      },
      "source": [
        "<a href=\"https://colab.research.google.com/github/BroMaArago/AboutMe/blob/main/%D0%9A%D0%BE%D0%BF%D0%B8%D1%8F_%D0%B1%D0%BB%D0%BE%D0%BA%D0%BD%D0%BE%D1%82%D0%B0_%22data_types_imbd_ipynb%22.ipynb\" target=\"_parent\"><img src=\"https://colab.research.google.com/assets/colab-badge.svg\" alt=\"Open In Colab\"/></a>"
      ]
    },
    {
      "cell_type": "markdown",
      "source": [
        "```\n",
        "MIT License\n",
        "\n",
        "Copyright (c) 2023 Victoria Firsanova\n",
        "\n",
        "Permission is hereby granted, free of charge, to any person obtaining a copy of this software and associated documentation files (the \"Software\"), to deal in the Software without restriction, including without limitation the rights to use, copy, modify, merge, publish, distribute, sublicense, and/or sell copies of the Software, and to permit persons to whom the Software is furnished to do so, subject to the following conditions:\n",
        "\n",
        "The above copyright notice and this permission notice shall be included in all copies or substantial portions of the Software.\n",
        "\n",
        "THE SOFTWARE IS PROVIDED \"AS IS\", WITHOUT WARRANTY OF ANY KIND, EXPRESS OR IMPLIED, INCLUDING BUT NOT LIMITED TO THE WARRANTIES OF MERCHANTABILITY, FITNESS FOR A PARTICULAR PURPOSE AND NONINFRINGEMENT. IN NO EVENT SHALL THE AUTHORS OR COPYRIGHT HOLDERS BE LIABLE FOR ANY CLAIM, DAMAGES OR OTHER LIABILITY, WHETHER IN AN ACTION OF CONTRACT, TORT OR OTHERWISE, ARISING FROM, OUT OF OR IN CONNECTION WITH THE SOFTWARE OR THE USE OR OTHER DEALINGS IN THE SOFTWARE.\n",
        "```"
      ],
      "metadata": {
        "id": "6cQvzaYa5Z9C"
      }
    },
    {
      "cell_type": "markdown",
      "source": [
        "Работаем с Cinemagoer: https://cinemagoer.github.io/"
      ],
      "metadata": {
        "id": "NDJ9wtCQ24UT"
      }
    },
    {
      "cell_type": "code",
      "source": [
        "!pip install cinemagoer"
      ],
      "metadata": {
        "id": "dZB9wR7Cq6DP",
        "outputId": "b9d69fa5-5c76-4d29-8802-43a6514b7db4",
        "colab": {
          "base_uri": "https://localhost:8080/"
        }
      },
      "execution_count": null,
      "outputs": [
        {
          "output_type": "stream",
          "name": "stdout",
          "text": [
            "Collecting cinemagoer\n",
            "  Downloading cinemagoer-2023.5.1-py3-none-any.whl (297 kB)\n",
            "\u001b[?25l     \u001b[90m━━━━━━━━━━━━━━━━━━━━━━━━━━━━━━━━━━━━━━━━\u001b[0m \u001b[32m0.0/297.2 kB\u001b[0m \u001b[31m?\u001b[0m eta \u001b[36m-:--:--\u001b[0m\r\u001b[2K     \u001b[91m━━━━━━━━━━━━━━━━\u001b[0m\u001b[91m╸\u001b[0m\u001b[90m━━━━━━━━━━━━━━━━━━━━━━━\u001b[0m \u001b[32m122.9/297.2 kB\u001b[0m \u001b[31m3.5 MB/s\u001b[0m eta \u001b[36m0:00:01\u001b[0m\r\u001b[2K     \u001b[90m━━━━━━━━━━━━━━━━━━━━━━━━━━━━━━━━━━━━━━━━\u001b[0m \u001b[32m297.2/297.2 kB\u001b[0m \u001b[31m5.5 MB/s\u001b[0m eta \u001b[36m0:00:00\u001b[0m\n",
            "\u001b[?25hRequirement already satisfied: SQLAlchemy in /usr/local/lib/python3.10/dist-packages (from cinemagoer) (2.0.21)\n",
            "Requirement already satisfied: lxml in /usr/local/lib/python3.10/dist-packages (from cinemagoer) (4.9.3)\n",
            "Requirement already satisfied: typing-extensions>=4.2.0 in /usr/local/lib/python3.10/dist-packages (from SQLAlchemy->cinemagoer) (4.5.0)\n",
            "Requirement already satisfied: greenlet!=0.4.17 in /usr/local/lib/python3.10/dist-packages (from SQLAlchemy->cinemagoer) (3.0.0)\n",
            "Installing collected packages: cinemagoer\n",
            "Successfully installed cinemagoer-2023.5.1\n"
          ]
        }
      ]
    },
    {
      "cell_type": "code",
      "execution_count": null,
      "metadata": {
        "id": "Zn7ebKaSjSmK"
      },
      "outputs": [],
      "source": [
        "from imdb import Cinemagoer\n",
        "\n",
        "# создаем класс Cinemagoer\n",
        "ia = Cinemagoer()\n",
        "\n",
        "# получаем информацию про фильм по ID в IMDB https://www.imdb.com/title/tt###\n",
        "movie = ia.get_movie('0443453')"
      ]
    },
    {
      "cell_type": "code",
      "source": [
        "# посмотрим, какая информация нам доступна\n",
        "sorted(movie.keys())"
      ],
      "metadata": {
        "id": "TjihNPcKxD7s",
        "outputId": "cfb65412-cabb-40b5-aedf-2bf7153f4dbf",
        "colab": {
          "base_uri": "https://localhost:8080/"
        }
      },
      "execution_count": null,
      "outputs": [
        {
          "output_type": "execute_result",
          "data": {
            "text/plain": [
              "['akas',\n",
              " 'art department',\n",
              " 'aspect ratio',\n",
              " 'assistant director',\n",
              " 'box office',\n",
              " 'camera and electrical department',\n",
              " 'canonical title',\n",
              " 'cast',\n",
              " 'casting department',\n",
              " 'casting director',\n",
              " 'certificates',\n",
              " 'cinematographer',\n",
              " 'color info',\n",
              " 'composer',\n",
              " 'costume department',\n",
              " 'costume designer',\n",
              " 'countries',\n",
              " 'country codes',\n",
              " 'cover url',\n",
              " 'director',\n",
              " 'distributors',\n",
              " 'editor',\n",
              " 'editorial department',\n",
              " 'full-size cover url',\n",
              " 'genres',\n",
              " 'imdbID',\n",
              " 'kind',\n",
              " 'language codes',\n",
              " 'languages',\n",
              " 'localized title',\n",
              " 'location management',\n",
              " 'long imdb canonical title',\n",
              " 'long imdb title',\n",
              " 'make up',\n",
              " 'miscellaneous crew',\n",
              " 'music department',\n",
              " 'original air date',\n",
              " 'original title',\n",
              " 'other companies',\n",
              " 'plot',\n",
              " 'plot outline',\n",
              " 'producer',\n",
              " 'production companies',\n",
              " 'production manager',\n",
              " 'rating',\n",
              " 'runtimes',\n",
              " 'smart canonical title',\n",
              " 'smart long imdb canonical title',\n",
              " 'sound crew',\n",
              " 'sound mix',\n",
              " 'special effects',\n",
              " 'stunt performer',\n",
              " 'synopsis',\n",
              " 'thanks',\n",
              " 'title',\n",
              " 'transportation department',\n",
              " 'videos',\n",
              " 'visual effects',\n",
              " 'votes',\n",
              " 'writer',\n",
              " 'year']"
            ]
          },
          "metadata": {},
          "execution_count": 7
        }
      ]
    },
    {
      "cell_type": "markdown",
      "source": [
        "# Задачи на работу со строками"
      ],
      "metadata": {
        "id": "YN57OZzX0A-t"
      }
    },
    {
      "cell_type": "code",
      "source": [
        "# для каждого актера фильма\n",
        "# выведите на экран одной строкой\n",
        "# FirstName LastName is an actor in MovieName\n",
        "# используйте конкатенацию и форматирование строк\n",
        "# hint: actor['name'] - имя актера\n",
        "# movie['original title'] - название фильма\n",
        "for actor in movie['cast']:\n",
        "  print(f\"{actor['name']} is an actor in {movie['original title']}\")"
      ],
      "metadata": {
        "id": "IHmsLx-YyPCG",
        "outputId": "13fd93d5-c422-40a1-8e55-eb2e433963c4",
        "colab": {
          "base_uri": "https://localhost:8080/"
        }
      },
      "execution_count": null,
      "outputs": [
        {
          "output_type": "stream",
          "name": "stdout",
          "text": [
            "Sacha Baron Cohen is an actor in Borat: Cultural Learnings of America for Make Benefit Glorious Nation of Kazakhstan\n",
            "Ken Davitian is an actor in Borat: Cultural Learnings of America for Make Benefit Glorious Nation of Kazakhstan\n",
            "Luenell is an actor in Borat: Cultural Learnings of America for Make Benefit Glorious Nation of Kazakhstan\n",
            "Chester is an actor in Borat: Cultural Learnings of America for Make Benefit Glorious Nation of Kazakhstan\n",
            "Charlie is an actor in Borat: Cultural Learnings of America for Make Benefit Glorious Nation of Kazakhstan\n",
            "Ilham Aliyev is an actor in Borat: Cultural Learnings of America for Make Benefit Glorious Nation of Kazakhstan\n",
            "Pamela Anderson is an actor in Borat: Cultural Learnings of America for Make Benefit Glorious Nation of Kazakhstan\n",
            "Bob Barr is an actor in Borat: Cultural Learnings of America for Make Benefit Glorious Nation of Kazakhstan\n",
            "Carole De Saram is an actor in Borat: Cultural Learnings of America for Make Benefit Glorious Nation of Kazakhstan\n",
            "Mitchell Falk is an actor in Borat: Cultural Learnings of America for Make Benefit Glorious Nation of Kazakhstan\n",
            "Alan Keyes is an actor in Borat: Cultural Learnings of America for Make Benefit Glorious Nation of Kazakhstan\n",
            "Andre Myers is an actor in Borat: Cultural Learnings of America for Make Benefit Glorious Nation of Kazakhstan\n",
            "Jean-Pierre Parent is an actor in Borat: Cultural Learnings of America for Make Benefit Glorious Nation of Kazakhstan\n",
            "Chip Pickering is an actor in Borat: Cultural Learnings of America for Make Benefit Glorious Nation of Kazakhstan\n",
            "Bobby Rowe is an actor in Borat: Cultural Learnings of America for Make Benefit Glorious Nation of Kazakhstan\n",
            "James Smith is an actor in Borat: Cultural Learnings of America for Make Benefit Glorious Nation of Kazakhstan\n",
            "Larry Walker is an actor in Borat: Cultural Learnings of America for Make Benefit Glorious Nation of Kazakhstan\n",
            "Grace Welch is an actor in Borat: Cultural Learnings of America for Make Benefit Glorious Nation of Kazakhstan\n"
          ]
        }
      ]
    },
    {
      "cell_type": "code",
      "source": [
        "# сохраним краткое описание фильма в переменную\n",
        "\n",
        "synopsis = movie['synopsis'][0]\n",
        "\n",
        "# приведите этот текст к нижнему регистру\n",
        "\n",
        "synopsis_lower = synopsis.lower()\n",
        "# выведите на экран первые 100 символов\n",
        "\n",
        "print(synopsis_lower[:100])\n",
        "print(synopsis_lower.split()[:100])"
      ],
      "metadata": {
        "id": "gWnW9d-9w9fC",
        "outputId": "cfccf760-0d8f-46fe-f7c8-e110db8e872d",
        "colab": {
          "base_uri": "https://localhost:8080/"
        }
      },
      "execution_count": null,
      "outputs": [
        {
          "output_type": "stream",
          "name": "stdout",
          "text": [
            "borat sagdiyev is a tv reporter of a popular show in kazakhstan. the movie opens when borat is in hi\n",
            "['borat', 'sagdiyev', 'is', 'a', 'tv', 'reporter', 'of', 'a', 'popular', 'show', 'in', 'kazakhstan.', 'the', 'movie', 'opens', 'when', 'borat', 'is', 'in', 'his', 'hometown', 'of', 'kusak', 'in', 'kazakhstan.', 'he', 'is', 'introducing', 'the', 'entire', 'town', 'to', 'the', 'documentary', 'movie', 'he', 'is', 'going', 'to', 'be', 'filming.', \"there's\", 'people', 'like', 'the', 'town', 'mechanic', '/', 'abortionist,', 'the', 'town', 'rapist,', 'his', 'annoying', 'neighbor,', 'his', 'wife', 'oxana,', 'and', 'so', 'on', 'and', 'so', 'forth.', 'borat', 'also', 'talks', 'about', 'his', 'home', 'and', 'his', 'hobbies.', 'hobbies', 'include', 'ping', 'pong,', 'which', 'he', 'plays', 'rather', 'poorly,', 'and', 'traveling', 'to', 'capital', 'city', 'where', 'he', 'watches', 'women', 'as', 'they', 'do', 'their', 'business.', 'borat', 'takes', 'you', 'through']\n"
          ]
        }
      ]
    },
    {
      "cell_type": "code",
      "source": [
        "# посмотрите, сколько раз повторяются слова из заголовка фильма\n",
        "# для этого приведите название фильма к нижнему регистру\n",
        "# и используйте цикл for, если слов в заголовке несколько\n",
        "\n",
        "for word in movie['original title'].lower().split():\n",
        "  print(word)\n",
        "  print(synopsis_lower.count(word))\n",
        "\n"
      ],
      "metadata": {
        "id": "joheoNtPux3I",
        "outputId": "83c19dc4-d8fc-484b-9902-9fa7ad9c44a1",
        "colab": {
          "base_uri": "https://localhost:8080/"
        }
      },
      "execution_count": null,
      "outputs": [
        {
          "output_type": "stream",
          "name": "stdout",
          "text": [
            "borat:\n",
            "0\n",
            "cultural\n",
            "0\n",
            "learnings\n",
            "0\n",
            "of\n",
            "36\n",
            "america\n",
            "7\n",
            "for\n",
            "16\n",
            "make\n",
            "1\n",
            "benefit\n",
            "0\n",
            "glorious\n",
            "0\n",
            "nation\n",
            "8\n",
            "of\n",
            "36\n",
            "kazakhstan\n",
            "12\n"
          ]
        }
      ]
    },
    {
      "cell_type": "code",
      "source": [
        "# разбейте текст на слова и выведете первые 10 слов на экран, не используйте print\n",
        "\n",
        "words = synopsis_lower.split()\n",
        "words[:10]"
      ],
      "metadata": {
        "id": "zYRzKMYUv6FL",
        "outputId": "e2245bc0-c51b-4303-d980-92d4726b14fc",
        "colab": {
          "base_uri": "https://localhost:8080/"
        }
      },
      "execution_count": null,
      "outputs": [
        {
          "output_type": "execute_result",
          "data": {
            "text/plain": [
              "['borat',\n",
              " 'sagdiyev',\n",
              " 'is',\n",
              " 'a',\n",
              " 'tv',\n",
              " 'reporter',\n",
              " 'of',\n",
              " 'a',\n",
              " 'popular',\n",
              " 'show']"
            ]
          },
          "metadata": {},
          "execution_count": 11
        }
      ]
    },
    {
      "cell_type": "markdown",
      "source": [
        "# Задачи на работу со списками"
      ],
      "metadata": {
        "id": "V4_tbOOR7xlZ"
      }
    },
    {
      "cell_type": "code",
      "source": [
        "# создайте список актеров фильма\n",
        "# сначала создайте пустой список\n",
        "# затем используйте цикл for и append\n",
        "\n",
        "actors = []\n",
        "\n",
        "for actor in movie['cast']:\n",
        "  actors.append(actor['name'])\n",
        "\n",
        "# выведите на экран первые 10 актеров из списка\n",
        "\n",
        "actors[:10]"
      ],
      "metadata": {
        "id": "p0XJ2Ib07wqf",
        "outputId": "4d8344f5-d3bf-482c-a3ca-716c56fc4694",
        "colab": {
          "base_uri": "https://localhost:8080/"
        }
      },
      "execution_count": null,
      "outputs": [
        {
          "output_type": "execute_result",
          "data": {
            "text/plain": [
              "['Sacha Baron Cohen',\n",
              " 'Ken Davitian',\n",
              " 'Luenell',\n",
              " 'Chester',\n",
              " 'Charlie',\n",
              " 'Ilham Aliyev',\n",
              " 'Pamela Anderson',\n",
              " 'Bob Barr',\n",
              " 'Carole De Saram',\n",
              " 'Mitchell Falk']"
            ]
          },
          "metadata": {},
          "execution_count": 12
        }
      ]
    },
    {
      "cell_type": "code",
      "source": [
        "# сгенерируйте список режиссеров фильма\n",
        "# hint: для запроса к имени используйте x['name']\n",
        "\n",
        "directors = [x ['name']for x in movie ['directors']]\n",
        "\n",
        "# выведите на экран количество режиссеров фильма и их имена\n",
        "# используйте f-форматирование строк и \\n для переноса на новую строку\n",
        "\n",
        "print(f\"Всего режиссеров: {len(directors)}\\n Имена:{' '.join(map(str, directors))}\")"
      ],
      "metadata": {
        "id": "aVekoj5u8SgK",
        "outputId": "14d59168-2c6e-4e5e-b568-6be236b6d529",
        "colab": {
          "base_uri": "https://localhost:8080/"
        }
      },
      "execution_count": null,
      "outputs": [
        {
          "output_type": "stream",
          "name": "stdout",
          "text": [
            "Всего режиссеров: 1\n",
            " Имена:Larry Charles\n"
          ]
        }
      ]
    },
    {
      "cell_type": "code",
      "source": [
        "# списки тоже можно контатенировать, сложите список актеров и режиссеров\n",
        "# выведите несколько первых и последних элементов списка\n",
        "\n",
        "involved = actors + directors\n",
        "print(involved[:3])\n",
        "print(involved[-3:])"
      ],
      "metadata": {
        "id": "r4tYj-JE9qDD",
        "outputId": "17ece0b2-02e6-41ff-b469-8053f4d6e74c",
        "colab": {
          "base_uri": "https://localhost:8080/"
        }
      },
      "execution_count": null,
      "outputs": [
        {
          "output_type": "stream",
          "name": "stdout",
          "text": [
            "['Sacha Baron Cohen', 'Ken Davitian', 'Luenell']\n",
            "['Larry Walker', 'Grace Welch', 'Larry Charles']\n"
          ]
        }
      ]
    },
    {
      "cell_type": "code",
      "source": [
        "# выполните сортировку списка актеров по алфавиту\n",
        "\n",
        "print(sorted(actors)[:5])\n",
        "\n",
        "# удалите в этом списке первый элемент с помощью индексации\n",
        "\n",
        "actors.remove(actors[0])\n",
        "print(actors[:5])\n",
        "# удалите нелюбимого актера с помощью ввода имен\n",
        "\n",
        "actors.remove('Ilham Aliyev')\n",
        "\n",
        "# проверьте, есть ли это имя в списке актеров с помощью in\n",
        "\n",
        "'Ilham Aliyev' in actors"
      ],
      "metadata": {
        "id": "E2EWKiA6_Ech",
        "outputId": "e6c26648-5e36-449f-ed7f-48bbf458dcf4",
        "colab": {
          "base_uri": "https://localhost:8080/"
        }
      },
      "execution_count": null,
      "outputs": [
        {
          "output_type": "stream",
          "name": "stdout",
          "text": [
            "['Alan Keyes', 'Andre Myers', 'Bob Barr', 'Bobby Rowe', 'Carole De Saram']\n",
            "['Ken Davitian', 'Luenell', 'Chester', 'Charlie', 'Ilham Aliyev']\n"
          ]
        },
        {
          "output_type": "execute_result",
          "data": {
            "text/plain": [
              "False"
            ]
          },
          "metadata": {},
          "execution_count": 15
        }
      ]
    },
    {
      "cell_type": "markdown",
      "source": [
        "# Задачи на работу со словарями"
      ],
      "metadata": {
        "id": "8sRhKPLTFAuF"
      }
    },
    {
      "cell_type": "code",
      "source": [
        "# создадим карточку любого актера из нашего фильма\n",
        "\n",
        "people = ia.search_person(actors[3])\n",
        "\n",
        "for person in people:\n",
        "   print(person.personID, person['name'])"
      ],
      "metadata": {
        "id": "2PuExDCoEFG_",
        "outputId": "4ee804b8-70a9-462d-b8e7-1c26812a4363",
        "colab": {
          "base_uri": "https://localhost:8080/"
        }
      },
      "execution_count": null,
      "outputs": [
        {
          "output_type": "stream",
          "name": "stdout",
          "text": [
            "6035910 Charlie Gillespie\n",
            "0000234 Charlize Theron\n",
            "0402271 Charlie Hunnam\n",
            "0000221 Charlie Sheen\n",
            "3647676 Charlie Murphy\n",
            "0206359 Charlie Day\n",
            "1214435 Charlie Cox\n",
            "0916518 Charlie Weber\n",
            "0001731 Sam Shepard\n",
            "1668208 Charlie McDermott\n",
            "2253071 Charlie Tahan\n",
            "0838000 Charlotte Sullivan\n",
            "6390427 Charlie Heaton\n",
            "0442109 Charlie Kaufman\n",
            "4055138 Charlie Plummer\n",
            "3083350 Charlie Carver\n",
            "0000122 Charles Chaplin\n",
            "0001432 Charlie Korsmo\n",
            "8190914 Charlie Vickers\n",
            "0772116 Charlie Schlatter\n"
          ]
        }
      ]
    },
    {
      "cell_type": "code",
      "source": [
        "# запишем в перменную только один результат\n",
        "\n",
        "person = ia.get_person(people[0].personID)"
      ],
      "metadata": {
        "id": "2x_WWik8Indr"
      },
      "execution_count": null,
      "outputs": []
    },
    {
      "cell_type": "code",
      "source": [
        "person.keys()"
      ],
      "metadata": {
        "colab": {
          "base_uri": "https://localhost:8080/"
        },
        "id": "HWK3eAaQJL0S",
        "outputId": "bb7a87c4-b6e0-41e9-ce76-fc656057c54a"
      },
      "execution_count": null,
      "outputs": [
        {
          "output_type": "execute_result",
          "data": {
            "text/plain": [
              "['headshot',\n",
              " 'imdbID',\n",
              " 'name',\n",
              " 'filmography',\n",
              " 'canonical name',\n",
              " 'long imdb name',\n",
              " 'long imdb canonical name',\n",
              " 'full-size headshot']"
            ]
          },
          "metadata": {},
          "execution_count": 20
        }
      ]
    },
    {
      "cell_type": "code",
      "source": [
        "person.items()"
      ],
      "metadata": {
        "id": "jRE3qJuUJoKv",
        "outputId": "4ea071d8-c597-4312-b127-e58e23772a79",
        "colab": {
          "base_uri": "https://localhost:8080/"
        }
      },
      "execution_count": null,
      "outputs": [
        {
          "output_type": "execute_result",
          "data": {
            "text/plain": [
              "[('headshot',\n",
              "  'https://m.media-amazon.com/images/M/MV5BYTkxZmI5ODEtNjVmNy00MDFmLTljMDItMzRkMTY3OGIyYTk5XkEyXkFqcGdeQXVyMjQwMDg0Ng@@._V1_QL75_UY207_CR12,0,140,207_.jpg'),\n",
              " ('imdbID', '6035910'),\n",
              " ('name', 'Charlie Gillespie'),\n",
              " ('filmography',\n",
              "  {'actor': [<Movie id:15214816[http] title:_The Get Back Girl (None)_>,\n",
              "    <Movie id:11426232[http] title:_Totally Killer (2023)_>,\n",
              "    <Movie id:20597364[http] title:_Suze (2023)_>,\n",
              "    <Movie id:8248940[http] title:_Deltopia (2023)_>,\n",
              "    <Movie id:28089443[http] title:_Debbie Gibson - Love Don't Care (2023)_>,\n",
              "    <Movie id:6276272[http] title:_The Class (2022)_>,\n",
              "    <Movie id:13456316[http] title:_Love You Anyway (2022)_>,\n",
              "    <Movie id:14348308[http] title:_Chevel Shepherd: Good Boy (2021)_>,\n",
              "    <Movie id:10183988[http] title:_Julie and the Phantoms (2020)_>,\n",
              "    <Movie id:8584722[http] title:_The Rest of Us (None)_>,\n",
              "    <Movie id:14235788[http] title:_Madison Park: better w/o you (2019)_>,\n",
              "    <Movie id:14167162[http] title:_Conséquences (2019)_>,\n",
              "    <Movie id:7186588[http] title:_I Am the Night (2019)_>,\n",
              "    <Movie id:6988296[http] title:_Runt (2019)_>,\n",
              "    <Movie id:6749318[http] title:_Speed Kills (2018)_>,\n",
              "    <Movie id:6394324[http] title:_Charmed (2018)_>,\n",
              "    <Movie id:14235954[http] title:_Naomi Sequeira: Pastries (2018)_>,\n",
              "    <Movie id:5902204[http] title:_2nd Generation (2018)_>,\n",
              "    <Movie id:2374744[http] title:_The Next Step (2017)_>,\n",
              "    <Movie id:5320160[http] title:_Degrassi: Next Class (2017)_>,\n",
              "    <Movie id:3281684[http] title:_The Outlaw League (2014)_>],\n",
              "   'additional crew': [<Movie id:9635200[http] title:_Nasty Habits (2019)_>],\n",
              "   'soundtrack': [<Movie id:5471826[http] title:_MsMojo (None)_>,\n",
              "    <Movie id:14328346[http] title:_Behind the Band (None)_>,\n",
              "    <Movie id:14337216[http] title:_Julie and the Phantoms BTS (2020)_>,\n",
              "    <Movie id:10183988[http] title:_Julie and the Phantoms (None)_>],\n",
              "   'self': [<Movie id:14410220[http] title:_Any Gabrielly Convida (2021)_>,\n",
              "    <Movie id:13618296[http] title:_Overthinkers Society with Su Lee (2021)_>,\n",
              "    <Movie id:14330914[http] title:_8 Bit Melody Challenge (2021)_>,\n",
              "    <Movie id:14408982[http] title:_Abnormallyadam (2020)_>,\n",
              "    <Movie id:14328346[http] title:_Behind the Band (2020)_>,\n",
              "    <Movie id:14337216[http] title:_Julie and the Phantoms BTS (2020)_>,\n",
              "    <Movie id:14090088[http] title:_Guess That (2020)_>,\n",
              "    <Movie id:14330958[http] title:_The Most Impossible Quiz (2020)_>,\n",
              "    <Movie id:0081857[http] title:_Entertainment Tonight (2020)_>,\n",
              "    <Movie id:9793886[http] title:_BuzzFeed Celeb (2020)_>,\n",
              "    <Movie id:14337008[http] title:_TikTok Challenge Challenge (2020)_>,\n",
              "    <Movie id:14337308[http] title:_Most Likely To... (2019)_>,\n",
              "    <Movie id:4548688[http] title:_Galala (2015)_>,\n",
              "    <Movie id:4056634[http] title:_Bienvenue chez nous - La gang à Richibouctou Village (2014)_>],\n",
              "   'archive footage': [<Movie id:5471826[http] title:_MsMojo (2020)_>]}),\n",
              " ('canonical name', 'Gillespie, Charlie'),\n",
              " ('long imdb name', 'Charlie Gillespie'),\n",
              " ('long imdb canonical name', 'Gillespie, Charlie'),\n",
              " ('full-size headshot',\n",
              "  'https://m.media-amazon.com/images/M/MV5BYTkxZmI5ODEtNjVmNy00MDFmLTljMDItMzRkMTY3OGIyYTk5XkEyXkFqcGdeQXVyMjQwMDg0Ng@@.jpg')]"
            ]
          },
          "metadata": {},
          "execution_count": 21
        }
      ]
    },
    {
      "cell_type": "code",
      "source": [
        "# составим из этих элементов карточку следующего вида\n",
        "# [\n",
        "#    актер :\n",
        "#             {\n",
        "#               фильмы : список фильмов\n",
        "#               жанры : список жанров\n",
        "#             }\n",
        "# ]\n",
        "#\n",
        "# начнем с созднания списка фильмов\n",
        "# создаем пустой список\n",
        "\n",
        "films = []\n",
        "\n",
        "# для каждого фильма в person['filmography']['###']\n",
        "# вносим в список новый элемент\n",
        "\n",
        "for title in person ['filmography']['actor']:\n",
        "  temp = title['title']\n",
        "  films.append(temp)\n",
        "\n",
        "films[:10]"
      ],
      "metadata": {
        "id": "rqL8zMq8JrTw",
        "outputId": "74406a91-c1a3-47b7-cce1-a90e579ed195",
        "colab": {
          "base_uri": "https://localhost:8080/"
        }
      },
      "execution_count": null,
      "outputs": [
        {
          "output_type": "execute_result",
          "data": {
            "text/plain": [
              "['The Get Back Girl',\n",
              " 'Totally Killer',\n",
              " 'Suze',\n",
              " 'Deltopia',\n",
              " \"Debbie Gibson - Love Don't Care\",\n",
              " 'The Class',\n",
              " 'Love You Anyway',\n",
              " 'Chevel Shepherd: Good Boy',\n",
              " 'Julie and the Phantoms',\n",
              " 'The Rest of Us']"
            ]
          },
          "metadata": {},
          "execution_count": 26
        }
      ]
    },
    {
      "cell_type": "code",
      "source": [
        "# теперь для каждого из найденных фильмов извлечем жанр\n",
        "# и тоже запишем все это в список\n",
        "\n",
        "# создаем пустой список для жанров\n",
        "\n",
        "genres = []\n",
        "\n",
        "# для каждого фильма из списка с фильмами\n",
        "# ищем подходящие фильмы в IMDB: ia.search_movie()\n",
        "# записываем в переменную ID этого фильма: ia.get_movie(movie.movieID)\n",
        "# извлекаем жанры, записываем во временную переменную\n",
        "# записываем жанры в список жанров\n",
        "\n",
        "for title in films [:10]:\n",
        "  film_list = ia.search_movie(title)\n",
        "  film = ia.get_movie(film_list[0].movieID)\n",
        "  temp = film['genres'][0]\n",
        "  genres.append(temp)\n",
        "\n",
        "genres"
      ],
      "metadata": {
        "id": "MdMA4jSBK5yZ",
        "outputId": "14f01b03-90ff-4fa9-f337-a2108ade1840",
        "colab": {
          "base_uri": "https://localhost:8080/"
        }
      },
      "execution_count": null,
      "outputs": [
        {
          "output_type": "execute_result",
          "data": {
            "text/plain": [
              "['Thriller',\n",
              " 'Comedy',\n",
              " 'Comedy',\n",
              " 'Drama',\n",
              " 'Short',\n",
              " 'Comedy',\n",
              " 'Drama',\n",
              " 'Music',\n",
              " 'Adventure',\n",
              " 'Drama']"
            ]
          },
          "metadata": {},
          "execution_count": 29
        }
      ]
    },
    {
      "cell_type": "code",
      "source": [
        "# наши жанры повторяются\n",
        "\n",
        "genres"
      ],
      "metadata": {
        "colab": {
          "base_uri": "https://localhost:8080/"
        },
        "id": "8Z36xTMcK6Xs",
        "outputId": "6133b7a0-2bdd-44df-9664-e7cd095b0c6d"
      },
      "execution_count": null,
      "outputs": [
        {
          "output_type": "execute_result",
          "data": {
            "text/plain": [
              "['Thriller',\n",
              " 'Comedy',\n",
              " 'Comedy',\n",
              " 'Drama',\n",
              " 'Short',\n",
              " 'Comedy',\n",
              " 'Drama',\n",
              " 'Music',\n",
              " 'Adventure',\n",
              " 'Drama']"
            ]
          },
          "metadata": {},
          "execution_count": 30
        }
      ]
    },
    {
      "cell_type": "code",
      "source": [
        "# преобразуем список во множество\n",
        "\n",
        "genres = set(genres)\n",
        "genres"
      ],
      "metadata": {
        "colab": {
          "base_uri": "https://localhost:8080/"
        },
        "id": "CZoZrdoLNs0l",
        "outputId": "9b587048-af05-46ff-f5e2-f9502b74df68"
      },
      "execution_count": null,
      "outputs": [
        {
          "output_type": "execute_result",
          "data": {
            "text/plain": [
              "{'Adventure', 'Comedy', 'Drama', 'Music', 'Short', 'Thriller'}"
            ]
          },
          "metadata": {},
          "execution_count": 31
        }
      ]
    },
    {
      "cell_type": "code",
      "source": [
        "# теперь мы можем собрать информацию об актере в карточку\n",
        "# [\n",
        "#    актер :\n",
        "#             {\n",
        "#               фильмы : список фильмов\n",
        "#               жанры : список жанров\n",
        "#             }\n",
        "# ]\n",
        "#\n",
        "\n",
        "# сначала создаем словарь с фильмами и жанрами\n",
        "\n",
        "actress = dict()\n",
        "actress['fims'] = films\n",
        "actress['genres'] = genres\n",
        "actress"
      ],
      "metadata": {
        "id": "_RtAgCoRN033",
        "outputId": "be5456e7-908f-4f54-e0bf-7c820db8c6b5",
        "colab": {
          "base_uri": "https://localhost:8080/"
        }
      },
      "execution_count": null,
      "outputs": [
        {
          "output_type": "execute_result",
          "data": {
            "text/plain": [
              "{'fims': ['The Get Back Girl',\n",
              "  'Totally Killer',\n",
              "  'Suze',\n",
              "  'Deltopia',\n",
              "  \"Debbie Gibson - Love Don't Care\",\n",
              "  'The Class',\n",
              "  'Love You Anyway',\n",
              "  'Chevel Shepherd: Good Boy',\n",
              "  'Julie and the Phantoms',\n",
              "  'The Rest of Us',\n",
              "  'Madison Park: better w/o you',\n",
              "  'Conséquences',\n",
              "  'I Am the Night',\n",
              "  'Runt',\n",
              "  'Speed Kills',\n",
              "  'Charmed',\n",
              "  'Naomi Sequeira: Pastries',\n",
              "  '2nd Generation',\n",
              "  'The Next Step',\n",
              "  'Degrassi: Next Class',\n",
              "  'The Outlaw League'],\n",
              " 'genres': {'Adventure', 'Comedy', 'Drama', 'Music', 'Short', 'Thriller'}}"
            ]
          },
          "metadata": {},
          "execution_count": 34
        }
      ]
    },
    {
      "cell_type": "code",
      "source": [
        "# теперь временный словарь, в котором мы соединим эту информацию с именем актера\n",
        "\n",
        "temp = dict()\n",
        "temp[person['canonical name']] = actress\n",
        "\n",
        "temp"
      ],
      "metadata": {
        "id": "pjxwcxH9OTk3",
        "outputId": "805a646b-69a2-4d63-a8ae-5717317dde02",
        "colab": {
          "base_uri": "https://localhost:8080/"
        }
      },
      "execution_count": null,
      "outputs": [
        {
          "output_type": "execute_result",
          "data": {
            "text/plain": [
              "{'Gillespie, Charlie': {'fims': ['The Get Back Girl',\n",
              "   'Totally Killer',\n",
              "   'Suze',\n",
              "   'Deltopia',\n",
              "   \"Debbie Gibson - Love Don't Care\",\n",
              "   'The Class',\n",
              "   'Love You Anyway',\n",
              "   'Chevel Shepherd: Good Boy',\n",
              "   'Julie and the Phantoms',\n",
              "   'The Rest of Us',\n",
              "   'Madison Park: better w/o you',\n",
              "   'Conséquences',\n",
              "   'I Am the Night',\n",
              "   'Runt',\n",
              "   'Speed Kills',\n",
              "   'Charmed',\n",
              "   'Naomi Sequeira: Pastries',\n",
              "   '2nd Generation',\n",
              "   'The Next Step',\n",
              "   'Degrassi: Next Class',\n",
              "   'The Outlaw League'],\n",
              "  'genres': {'Adventure', 'Comedy', 'Drama', 'Music', 'Short', 'Thriller'}}}"
            ]
          },
          "metadata": {},
          "execution_count": 35
        }
      ]
    },
    {
      "cell_type": "code",
      "source": [
        "# карточка готова, но мы наверняка захотим добавить туда еще актеров\n",
        "# создаем хранилище карточек в виде списка и вносим туда первую карточку с append\n",
        "\n",
        "cards = []\n",
        "cards.append(temp)\n",
        "\n",
        "cards"
      ],
      "metadata": {
        "colab": {
          "base_uri": "https://localhost:8080/"
        },
        "id": "sPE1W57QPNYp",
        "outputId": "1948afa0-98c1-448a-b846-c97ef46009c9"
      },
      "execution_count": null,
      "outputs": [
        {
          "output_type": "execute_result",
          "data": {
            "text/plain": [
              "[{'Gillespie, Charlie': {'fims': ['The Get Back Girl',\n",
              "    'Totally Killer',\n",
              "    'Suze',\n",
              "    'Deltopia',\n",
              "    \"Debbie Gibson - Love Don't Care\",\n",
              "    'The Class',\n",
              "    'Love You Anyway',\n",
              "    'Chevel Shepherd: Good Boy',\n",
              "    'Julie and the Phantoms',\n",
              "    'The Rest of Us',\n",
              "    'Madison Park: better w/o you',\n",
              "    'Conséquences',\n",
              "    'I Am the Night',\n",
              "    'Runt',\n",
              "    'Speed Kills',\n",
              "    'Charmed',\n",
              "    'Naomi Sequeira: Pastries',\n",
              "    '2nd Generation',\n",
              "    'The Next Step',\n",
              "    'Degrassi: Next Class',\n",
              "    'The Outlaw League'],\n",
              "   'genres': {'Adventure', 'Comedy', 'Drama', 'Music', 'Short', 'Thriller'}}}]"
            ]
          },
          "metadata": {},
          "execution_count": 36
        }
      ]
    },
    {
      "cell_type": "markdown",
      "source": [
        "Задание:\n",
        "\n",
        "- Создать карточки для 5 актеров одного (любого фильма) - можно больше, главное, чтобы ваш код масштабировался до любого количества актеров\n",
        "- В карточке каждого актера должна содержаться следующая информация:\n",
        " * фильмография в качестве актера\n",
        " * несколько жанров\n",
        " * год выпуска фильмов, где снимался актер\n",
        " * языки, на которых сняты эти фильмы\n",
        " * рейтинги этих фильмов\n",
        "\n",
        "Создание карточек должно быть автоматизировано: за один цикл работы программы должна создаваться одна карточка. Чтобы программа не работала слишком долго, можно сократить количество извлеченных фильмов до пяти, извлекать только один жанр, один язык, где их несколько.\n",
        "\n",
        "Если этого мало: используйте функции для своей работы (аргументами функции может быть количество актеров, количество фильмов и т.д.), добавьте к фильмографии синопсисы."
      ],
      "metadata": {
        "id": "d-Q6tLj6QVUj"
      }
    }
  ]
}