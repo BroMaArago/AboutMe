{
  "nbformat": 4,
  "nbformat_minor": 0,
  "metadata": {
    "colab": {
      "provenance": [],
      "include_colab_link": true
    },
    "kernelspec": {
      "name": "python3",
      "display_name": "Python 3"
    },
    "language_info": {
      "name": "python"
    }
  },
  "cells": [
    {
      "cell_type": "markdown",
      "metadata": {
        "id": "view-in-github",
        "colab_type": "text"
      },
      "source": [
        "<a href=\"https://colab.research.google.com/github/BroMaArago/AboutMe/blob/main/%D0%94%D0%BE%D0%BC%D0%B0%D1%88%D0%BD%D0%B5%D0%B5_%D0%97%D0%B0%D0%B4%D0%B0%D0%BD%D0%B8%D0%B5_25%D0%BE%D0%BA%D1%82.ipynb\" target=\"_parent\"><img src=\"https://colab.research.google.com/assets/colab-badge.svg\" alt=\"Open In Colab\"/></a>"
      ]
    },
    {
      "cell_type": "markdown",
      "source": [
        "```\n",
        "MIT License\n",
        "\n",
        "Copyright (c) 2023 Victoria Firsanova\n",
        "\n",
        "Permission is hereby granted, free of charge, to any person obtaining a copy of this software and associated documentation files (the \"Software\"), to deal in the Software without restriction, including without limitation the rights to use, copy, modify, merge, publish, distribute, sublicense, and/or sell copies of the Software, and to permit persons to whom the Software is furnished to do so, subject to the following conditions:\n",
        "\n",
        "The above copyright notice and this permission notice shall be included in all copies or substantial portions of the Software.\n",
        "\n",
        "THE SOFTWARE IS PROVIDED \"AS IS\", WITHOUT WARRANTY OF ANY KIND, EXPRESS OR IMPLIED, INCLUDING BUT NOT LIMITED TO THE WARRANTIES OF MERCHANTABILITY, FITNESS FOR A PARTICULAR PURPOSE AND NONINFRINGEMENT. IN NO EVENT SHALL THE AUTHORS OR COPYRIGHT HOLDERS BE LIABLE FOR ANY CLAIM, DAMAGES OR OTHER LIABILITY, WHETHER IN AN ACTION OF CONTRACT, TORT OR OTHERWISE, ARISING FROM, OUT OF OR IN CONNECTION WITH THE SOFTWARE OR THE USE OR OTHER DEALINGS IN THE SOFTWARE.\n",
        "```"
      ],
      "metadata": {
        "id": "6cQvzaYa5Z9C"
      }
    },
    {
      "cell_type": "markdown",
      "source": [
        "Работаем с Cinemagoer: https://cinemagoer.github.io/"
      ],
      "metadata": {
        "id": "NDJ9wtCQ24UT"
      }
    },
    {
      "cell_type": "code",
      "source": [
        "!pip install cinemagoer"
      ],
      "metadata": {
        "id": "dZB9wR7Cq6DP",
        "colab": {
          "base_uri": "https://localhost:8080/"
        },
        "outputId": "ae172d5a-af45-492a-bd0d-34219236177a"
      },
      "execution_count": 90,
      "outputs": [
        {
          "output_type": "stream",
          "name": "stdout",
          "text": [
            "Requirement already satisfied: cinemagoer in /usr/local/lib/python3.10/dist-packages (2023.5.1)\n",
            "Requirement already satisfied: SQLAlchemy in /usr/local/lib/python3.10/dist-packages (from cinemagoer) (2.0.22)\n",
            "Requirement already satisfied: lxml in /usr/local/lib/python3.10/dist-packages (from cinemagoer) (4.9.3)\n",
            "Requirement already satisfied: typing-extensions>=4.2.0 in /usr/local/lib/python3.10/dist-packages (from SQLAlchemy->cinemagoer) (4.5.0)\n",
            "Requirement already satisfied: greenlet!=0.4.17 in /usr/local/lib/python3.10/dist-packages (from SQLAlchemy->cinemagoer) (3.0.0)\n"
          ]
        }
      ]
    },
    {
      "cell_type": "code",
      "execution_count": 91,
      "metadata": {
        "id": "Zn7ebKaSjSmK"
      },
      "outputs": [],
      "source": [
        "from imdb import Cinemagoer\n",
        "\n",
        "# создаем класс Cinemagoer\n",
        "ia = Cinemagoer()\n",
        "\n",
        "# получаем информацию про фильм по ID в IMDB https://www.imdb.com/title/tt1596363\n",
        "movie = ia.get_movie('1596363')"
      ]
    },
    {
      "cell_type": "code",
      "source": [
        "# посмотрим, какая информация нам доступна\n",
        "sorted(movie.keys())"
      ],
      "metadata": {
        "id": "TjihNPcKxD7s",
        "colab": {
          "base_uri": "https://localhost:8080/"
        },
        "outputId": "af8c2970-8ce3-4cd7-ac67-92015569d1d7"
      },
      "execution_count": 93,
      "outputs": [
        {
          "output_type": "execute_result",
          "data": {
            "text/plain": [
              "['akas',\n",
              " 'art department',\n",
              " 'art direction',\n",
              " 'aspect ratio',\n",
              " 'assistant director',\n",
              " 'box office',\n",
              " 'camera and electrical department',\n",
              " 'canonical title',\n",
              " 'cast',\n",
              " 'casting department',\n",
              " 'casting director',\n",
              " 'certificates',\n",
              " 'cinematographer',\n",
              " 'color info',\n",
              " 'composer',\n",
              " 'costume department',\n",
              " 'costume designer',\n",
              " 'countries',\n",
              " 'country codes',\n",
              " 'cover url',\n",
              " 'director',\n",
              " 'distributors',\n",
              " 'editor',\n",
              " 'editorial department',\n",
              " 'full-size cover url',\n",
              " 'genres',\n",
              " 'imdbID',\n",
              " 'kind',\n",
              " 'language codes',\n",
              " 'languages',\n",
              " 'localized title',\n",
              " 'location management',\n",
              " 'long imdb canonical title',\n",
              " 'long imdb title',\n",
              " 'make up',\n",
              " 'miscellaneous crew',\n",
              " 'music department',\n",
              " 'original air date',\n",
              " 'original title',\n",
              " 'other companies',\n",
              " 'plot',\n",
              " 'plot outline',\n",
              " 'producer',\n",
              " 'production companies',\n",
              " 'production design',\n",
              " 'production manager',\n",
              " 'rating',\n",
              " 'runtimes',\n",
              " 'script department',\n",
              " 'set decoration',\n",
              " 'smart canonical title',\n",
              " 'smart long imdb canonical title',\n",
              " 'sound crew',\n",
              " 'sound mix',\n",
              " 'special effects',\n",
              " 'special effects companies',\n",
              " 'stunt performer',\n",
              " 'synopsis',\n",
              " 'title',\n",
              " 'transportation department',\n",
              " 'videos',\n",
              " 'visual effects',\n",
              " 'votes',\n",
              " 'writer',\n",
              " 'year']"
            ]
          },
          "metadata": {},
          "execution_count": 93
        }
      ]
    },
    {
      "cell_type": "markdown",
      "source": [
        "# Задачи на работу со строками"
      ],
      "metadata": {
        "id": "YN57OZzX0A-t"
      }
    },
    {
      "cell_type": "code",
      "source": [
        "# для каждого актера фильма\n",
        "# выведите на экран одной строкой\n",
        "# FirstName LastName is an actor in MovieName\n",
        "# используйте конкатенацию и форматирование строк\n",
        "# hint: actor['name'] - имя актера\n",
        "# movie['original title'] - название фильма\n",
        "for actor in movie['cast']:\n",
        "  print(f\"{actor['name']} is an actor in {movie['original title']}\")"
      ],
      "metadata": {
        "id": "IHmsLx-YyPCG",
        "colab": {
          "base_uri": "https://localhost:8080/"
        },
        "outputId": "15490ca1-66b7-47b7-9627-ef6b6e6c7d8e"
      },
      "execution_count": 96,
      "outputs": [
        {
          "output_type": "stream",
          "name": "stdout",
          "text": [
            "Ryan Gosling is an actor in The Big Short\n",
            "Rudy Eisenzopf is an actor in The Big Short\n",
            "Casey Groves is an actor in The Big Short\n",
            "Charlie Talbert is an actor in The Big Short\n",
            "Harold Gervais is an actor in The Big Short\n",
            "Maria Frangos is an actor in The Big Short\n",
            "Christian Bale is an actor in The Big Short\n",
            "Hunter Burke is an actor in The Big Short\n",
            "Bernard Hocke is an actor in The Big Short\n",
            "Shauna Rappold is an actor in The Big Short\n",
            "Brandon Stacy is an actor in The Big Short\n",
            "Aiden Flowers is an actor in The Big Short\n",
            "Peter Epstein is an actor in The Big Short\n",
            "Anthony Marble is an actor in The Big Short\n",
            "Silas Cooper is an actor in The Big Short\n",
            "Steve Carell is an actor in The Big Short\n",
            "Leslie Castay is an actor in The Big Short\n",
            "Andrew Farrier is an actor in The Big Short\n",
            "Tracy Letts is an actor in The Big Short\n",
            "Ingrid Steed is an actor in The Big Short\n",
            "Vanessa Cloke is an actor in The Big Short\n",
            "David Zalkind is an actor in The Big Short\n",
            "Carrie Lazar is an actor in The Big Short\n",
            "Marisa Tomei is an actor in The Big Short\n",
            "Mychael Bates is an actor in The Big Short\n",
            "Rajeev Jacob is an actor in The Big Short\n",
            "Jay Potter is an actor in The Big Short\n",
            "Garrett Hines is an actor in The Big Short\n",
            "Ryan Broussard is an actor in The Big Short\n",
            "Adepero Oduye is an actor in The Big Short\n",
            "Rafe Spall is an actor in The Big Short\n",
            "Hamish Linklater is an actor in The Big Short\n",
            "Jeremy Strong is an actor in The Big Short\n",
            "Jeffry Griffin is an actor in The Big Short\n",
            "Stanley Wong is an actor in The Big Short\n",
            "Anthony Bourdain is an actor in The Big Short\n",
            "John Magaro is an actor in The Big Short\n",
            "Finn Wittrock is an actor in The Big Short\n",
            "Joey Brooks is an actor in The Big Short\n",
            "Colette Divine is an actor in The Big Short\n",
            "Brad Pitt is an actor in The Big Short\n",
            "Oscar Gale is an actor in The Big Short\n",
            "Cayden Arthur Miscally is an actor in The Big Short\n",
            "Dave Davis is an actor in The Big Short\n",
            "Wayne Pére is an actor in The Big Short\n",
            "Kate Blumberg is an actor in The Big Short\n",
            "Billy Slaughter is an actor in The Big Short\n",
            "Max Greenfield is an actor in The Big Short\n",
            "Billy Magnussen is an actor in The Big Short\n",
            "Heighlen Boyd is an actor in The Big Short\n",
            "Ilan Muallem is an actor in The Big Short\n",
            "Melissa Leo is an actor in The Big Short\n",
            "Jay Jablonski is an actor in The Big Short\n",
            "Blaine Kern III is an actor in The Big Short\n",
            "Al Sapienza is an actor in The Big Short\n",
            "Karen Gillan is an actor in The Big Short\n",
            "Marcus Lyle Brown is an actor in The Big Short\n",
            "Tyler Kunkle is an actor in The Big Short\n",
            "Elliott Grey is an actor in The Big Short\n",
            "Jason Bayle is an actor in The Big Short\n",
            "Byron Mann is an actor in The Big Short\n",
            "Richard Thaler is an actor in The Big Short\n",
            "Sophie Lee is an actor in The Big Short\n",
            "Michael Aaron Santos is an actor in The Big Short\n",
            "David Kallaway is an actor in The Big Short\n",
            "Sharon Landry is an actor in The Big Short\n",
            "James Yeargain is an actor in The Big Short\n",
            "Lyle Brocato is an actor in The Big Short\n",
            "Kelly Lind is an actor in The Big Short\n",
            "Michael Brooks is an actor in The Big Short\n",
            "Lyndsay Kimball is an actor in The Big Short\n",
            "Robyn Wholey is an actor in The Big Short\n",
            "David Wyman is an actor in The Big Short\n",
            "Peter Anderson is an actor in The Big Short\n",
            "Lara Grice is an actor in The Big Short\n",
            "Tony Bentley is an actor in The Big Short\n",
            "Michael Kives is an actor in The Big Short\n",
            "Jack Millard is an actor in The Big Short\n",
            "John Neisler is an actor in The Big Short\n",
            "Michael Joseph Varino is an actor in The Big Short\n",
            "Joel Diggs is an actor in The Big Short\n",
            "Michael J. Stein is an actor in The Big Short\n",
            "Logan Crawford is an actor in The Big Short\n",
            "Tim Wilson is an actor in The Big Short\n",
            "Jae Suh Park is an actor in The Big Short\n",
            "Colin Lawless is an actor in The Big Short\n",
            "Deborah Alcorn is an actor in The Big Short\n",
            "Dennis Alcorn is an actor in The Big Short\n",
            "Dalton Alfortish is an actor in The Big Short\n",
            "Andrea Vittoria Alvarado is an actor in The Big Short\n",
            "Lance Armstrong is an actor in The Big Short\n",
            "Charlene Barr is an actor in The Big Short\n",
            "Nicole Barré is an actor in The Big Short\n",
            "Nazeema Bartek is an actor in The Big Short\n",
            "Seth Barthelemy is an actor in The Big Short\n",
            "Tony Beard is an actor in The Big Short\n",
            "Jaclyn Bethany is an actor in The Big Short\n",
            "Michael Bloomberg is an actor in The Big Short\n",
            "Barry Bonds is an actor in The Big Short\n",
            "Emily Bossak is an actor in The Big Short\n",
            "Rusty Bourg is an actor in The Big Short\n",
            "Allen Bracken is an actor in The Big Short\n",
            "Eugene Brezany is an actor in The Big Short\n",
            "Shannon Brokaw is an actor in The Big Short\n",
            "Christopher Terrell Brown is an actor in The Big Short\n",
            "David Cleveland Brown is an actor in The Big Short\n",
            "Tom Bui is an actor in The Big Short\n",
            "Michael Burry is an actor in The Big Short\n",
            "George W. Bush is an actor in The Big Short\n",
            "Brady Calhoun is an actor in The Big Short\n",
            "Paul X. Campanella is an actor in The Big Short\n",
            "Jeff Caperton is an actor in The Big Short\n",
            "Kayla Carraway is an actor in The Big Short\n",
            "David Michael Cefalu is an actor in The Big Short\n",
            "Ron Centanni is an actor in The Big Short\n",
            "Carl A. Chauvin is an actor in The Big Short\n",
            "Lindsay Clift is an actor in The Big Short\n",
            "Tyler Cook is an actor in The Big Short\n",
            "Richard R. Corapi is an actor in The Big Short\n",
            "Timothy Cornelius is an actor in The Big Short\n",
            "Jim Cramer is an actor in The Big Short\n",
            "Tom Cruise is an actor in The Big Short\n",
            "Eve Dawes is an actor in The Big Short\n",
            "Tim DeLaughter is an actor in The Big Short\n",
            "James Donald is an actor in The Big Short\n",
            "Saliyl Dotson is an actor in The Big Short\n",
            "Micheal K. Douglas is an actor in The Big Short\n",
            "Divine Prince Ty Emmecca is an actor in The Big Short\n",
            "Jeffrey Estiverne is an actor in The Big Short\n",
            "Mark Falvo is an actor in The Big Short\n",
            "Sara Finley is an actor in The Big Short\n",
            "Brandon Fontenot is an actor in The Big Short\n",
            "Tahseen Ghauri is an actor in The Big Short\n",
            "Selena Gomez is an actor in The Big Short\n",
            "Courtney Leigh Goodwin is an actor in The Big Short\n",
            "Scott Gray is an actor in The Big Short\n",
            "Joshua Guidry is an actor in The Big Short\n",
            "Christopher Gulas is an actor in The Big Short\n",
            "Scott Gulino is an actor in The Big Short\n",
            "Gene Kevin Hames Jr. is an actor in The Big Short\n",
            "Candice Harrison is an actor in The Big Short\n",
            "Jon Hartley is an actor in The Big Short\n",
            "Dominique Hayes is an actor in The Big Short\n",
            "Kaylee Henderson is an actor in The Big Short\n",
            "John Henry is an actor in The Big Short\n",
            "Julia Holt is an actor in The Big Short\n",
            "Nick Hwang is an actor in The Big Short\n",
            "Jacquelyn Twodat Jackson is an actor in The Big Short\n",
            "Alicia Davis Johnson is an actor in The Big Short\n",
            "Allyson Leigh Jordan is an actor in The Big Short\n",
            "Donald M. Krause is an actor in The Big Short\n",
            "Jenny Lacey is an actor in The Big Short\n",
            "Landa is an actor in The Big Short\n",
            "Cynthia LeBlanc is an actor in The Big Short\n",
            "Elton LeBlanc is an actor in The Big Short\n",
            "Justin Lebrun is an actor in The Big Short\n",
            "Juliet Reeves London is an actor in The Big Short\n",
            "Judd Lormand is an actor in The Big Short\n",
            "Ludacris is an actor in The Big Short\n",
            "Mino Mackic is an actor in The Big Short\n",
            "Tracy B. Mann is an actor in The Big Short\n",
            "Candace McAdams is an actor in The Big Short\n",
            "Mike R. Moreau is an actor in The Big Short\n",
            "Josh Mowery is an actor in The Big Short\n",
            "Fernando Nava is an actor in The Big Short\n",
            "Jay Oliver is an actor in The Big Short\n",
            "Robert Pekel is an actor in The Big Short\n",
            "Hannah Jacole Powell-Yost is an actor in The Big Short\n",
            "Ronald Reagan is an actor in The Big Short\n",
            "Gus Rhodes is an actor in The Big Short\n",
            "Margot Robbie is an actor in The Big Short\n",
            "Mike Rollins is an actor in The Big Short\n",
            "Mark Roman is an actor in The Big Short\n",
            "Robin Sarraille is an actor in The Big Short\n",
            "William Schaff is an actor in The Big Short\n",
            "Kristina Scott is an actor in The Big Short\n",
            "Tupac Shakur is an actor in The Big Short\n",
            "Delia Sheppard is an actor in The Big Short\n",
            "Paula Shreve is an actor in The Big Short\n",
            "Paul Sigrist is an actor in The Big Short\n",
            "Sarah Ellis Smith is an actor in The Big Short\n",
            "Snoop Dogg is an actor in The Big Short\n",
            "Britney Spears is an actor in The Big Short\n",
            "Anne Speed is an actor in The Big Short\n",
            "Staci Roberts Steele is an actor in The Big Short\n",
            "Sean Stevens is an actor in The Big Short\n",
            "Sue-Lynn is an actor in The Big Short\n",
            "Jack Teague is an actor in The Big Short\n",
            "John Teal Jr. is an actor in The Big Short\n",
            "Jim Templar is an actor in The Big Short\n",
            "Stefan Terrell is an actor in The Big Short\n",
            "Daryl Thibodaux is an actor in The Big Short\n",
            "Michelle Torres is an actor in The Big Short\n",
            "Ronald Joe Vasquez is an actor in The Big Short\n",
            "Bob Walker is an actor in The Big Short\n",
            "Darly Wayne is an actor in The Big Short\n",
            "Anna Wendt is an actor in The Big Short\n",
            "Christina Michelle Williams is an actor in The Big Short\n",
            "Pharrell Williams is an actor in The Big Short\n",
            "Jesse Yarborough is an actor in The Big Short\n"
          ]
        }
      ]
    },
    {
      "cell_type": "code",
      "source": [
        "# сохраним краткое описание фильма в переменную\n",
        "\n",
        "synopsis = movie['plot'][0]\n",
        "\n",
        "# приведите этот текст к нижнему регистру\n",
        "\n",
        "synopsis_lower = synopsis.lower()\n",
        "\n",
        "# выведите на экран первые 100 символов\n",
        "\n",
        "print(synopsis_lower[:100])\n",
        "\n",
        "print(synopsis_lower.split()[:100])"
      ],
      "metadata": {
        "id": "gWnW9d-9w9fC",
        "colab": {
          "base_uri": "https://localhost:8080/"
        },
        "outputId": "ac8bc4ae-1ec2-4d2b-9b68-19dc3aa834df"
      },
      "execution_count": 97,
      "outputs": [
        {
          "output_type": "stream",
          "name": "stdout",
          "text": [
            "in 2006-2007 a group of investors bet against the united states mortgage market. in their research, \n",
            "['in', '2006-2007', 'a', 'group', 'of', 'investors', 'bet', 'against', 'the', 'united', 'states', 'mortgage', 'market.', 'in', 'their', 'research,', 'they', 'discover', 'how', 'flawed', 'and', 'corrupt', 'the', 'market', 'is.']\n"
          ]
        }
      ]
    },
    {
      "cell_type": "code",
      "source": [
        "# посмотрите, сколько раз повторяются слова из заголовка фильма\n",
        "# для этого приведите название фильма к нижнему регистру\n",
        "# и используйте цикл for, если слов в заголовке несколько\n",
        "\n",
        "for word in movie['original title'].lower().split():\n",
        "  print(word)\n",
        "  print(synopsis_lower.count(word))"
      ],
      "metadata": {
        "colab": {
          "base_uri": "https://localhost:8080/"
        },
        "id": "NXRD_5tIuSw0",
        "outputId": "09eff4ce-7fdb-42bf-b193-48724b428bf5"
      },
      "execution_count": 98,
      "outputs": [
        {
          "output_type": "stream",
          "name": "stdout",
          "text": [
            "the\n",
            "4\n",
            "big\n",
            "0\n",
            "short\n",
            "0\n"
          ]
        }
      ]
    },
    {
      "cell_type": "code",
      "source": [
        "# разбейте текст на слова и выведете первые 10 слов на экран, не используйте print\n",
        "\n",
        "words = synopsis_lower.split()\n",
        "words[:10]"
      ],
      "metadata": {
        "colab": {
          "base_uri": "https://localhost:8080/"
        },
        "id": "boKgESK6vyvv",
        "outputId": "93aaa019-ac16-4541-96a8-db19f8fa75b7"
      },
      "execution_count": 99,
      "outputs": [
        {
          "output_type": "execute_result",
          "data": {
            "text/plain": [
              "['in',\n",
              " '2006-2007',\n",
              " 'a',\n",
              " 'group',\n",
              " 'of',\n",
              " 'investors',\n",
              " 'bet',\n",
              " 'against',\n",
              " 'the',\n",
              " 'united']"
            ]
          },
          "metadata": {},
          "execution_count": 99
        }
      ]
    },
    {
      "cell_type": "markdown",
      "source": [
        "# Задачи на работу со списками"
      ],
      "metadata": {
        "id": "V4_tbOOR7xlZ"
      }
    },
    {
      "cell_type": "code",
      "source": [
        "# создайте список актеров фильма\n",
        "# сначала создайте пустой список\n",
        "# затем используйте цикл for и append\n",
        "\n",
        "actors = []\n",
        "\n",
        "for actor in movie['cast']:\n",
        "  actors.append(actor['name'])\n",
        "\n",
        "# выведите на экран первые 10 актеров из списка\n",
        "\n",
        "actors[:10]"
      ],
      "metadata": {
        "id": "p0XJ2Ib07wqf",
        "colab": {
          "base_uri": "https://localhost:8080/"
        },
        "outputId": "023eba83-be55-446c-c5e0-ceac4adf9256"
      },
      "execution_count": 100,
      "outputs": [
        {
          "output_type": "execute_result",
          "data": {
            "text/plain": [
              "['Ryan Gosling',\n",
              " 'Rudy Eisenzopf',\n",
              " 'Casey Groves',\n",
              " 'Charlie Talbert',\n",
              " 'Harold Gervais',\n",
              " 'Maria Frangos',\n",
              " 'Christian Bale',\n",
              " 'Hunter Burke',\n",
              " 'Bernard Hocke',\n",
              " 'Shauna Rappold']"
            ]
          },
          "metadata": {},
          "execution_count": 100
        }
      ]
    },
    {
      "cell_type": "code",
      "source": [
        "# сгенерируйте список режиссеров фильма\n",
        "# hint: для запроса к имени используйте x['name']\n",
        "\n",
        "directors = [x['name'] for x in movie['directors']]\n",
        "\n",
        "# выведите на экран количество режиссеров фильма и их имена\n",
        "# используйте f-форматирование строк и \\n для переноса на новую строку\n",
        "\n",
        "print(f\"Всего режиссеров: {len(directors)}\\nИмена: {' '.join(map(str, directors))}\")"
      ],
      "metadata": {
        "id": "aVekoj5u8SgK",
        "colab": {
          "base_uri": "https://localhost:8080/"
        },
        "outputId": "4d508108-f36c-4700-9276-e1112ba36fcf"
      },
      "execution_count": 101,
      "outputs": [
        {
          "output_type": "stream",
          "name": "stdout",
          "text": [
            "Всего режиссеров: 1\n",
            "Имена: Adam McKay\n"
          ]
        }
      ]
    },
    {
      "cell_type": "code",
      "source": [
        "# списки тоже можно контатенировать, сложите список актеров и режиссеров\n",
        "# выведите несколько первых и последних элементов списка\n",
        "\n",
        "involved = actors + directors\n",
        "\n",
        "print(involved[:3])\n",
        "print(involved[-3:])"
      ],
      "metadata": {
        "id": "r4tYj-JE9qDD",
        "colab": {
          "base_uri": "https://localhost:8080/"
        },
        "outputId": "9edcb977-32f1-4023-ac94-db6ed52bf0f5"
      },
      "execution_count": 102,
      "outputs": [
        {
          "output_type": "stream",
          "name": "stdout",
          "text": [
            "['Ryan Gosling', 'Rudy Eisenzopf', 'Casey Groves']\n",
            "['Pharrell Williams', 'Jesse Yarborough', 'Adam McKay']\n"
          ]
        }
      ]
    },
    {
      "cell_type": "code",
      "source": [
        "# выполните сортировку списка актеров по алфавиту\n",
        "\n",
        "print(sorted(actors)[:5])"
      ],
      "metadata": {
        "id": "E2EWKiA6_Ech",
        "colab": {
          "base_uri": "https://localhost:8080/"
        },
        "outputId": "1778a66e-779e-415f-b1b3-4d80421cb951"
      },
      "execution_count": 103,
      "outputs": [
        {
          "output_type": "stream",
          "name": "stdout",
          "text": [
            "['Adepero Oduye', 'Aiden Flowers', 'Al Sapienza', 'Alicia Davis Johnson', 'Allen Bracken']\n"
          ]
        }
      ]
    },
    {
      "cell_type": "code",
      "source": [
        "# удалите в этом списке первый элемент с помощью индексации\n",
        "\n",
        "actors.remove(actors[0])\n",
        "\n",
        "print(actors[:5])"
      ],
      "metadata": {
        "colab": {
          "base_uri": "https://localhost:8080/"
        },
        "id": "pJZygt6u40ix",
        "outputId": "46a5559d-6b74-4f92-c63a-61de970ab05f"
      },
      "execution_count": 104,
      "outputs": [
        {
          "output_type": "stream",
          "name": "stdout",
          "text": [
            "['Rudy Eisenzopf', 'Casey Groves', 'Charlie Talbert', 'Harold Gervais', 'Maria Frangos']\n"
          ]
        }
      ]
    },
    {
      "cell_type": "code",
      "source": [
        "# удалите нелюбимого актера с помощью ввода имен\n",
        "\n",
        "#actors.remove('Luke Wilson')\n",
        "\n",
        "# проверьте, есть ли это имя в списке актеров с помощью in\n",
        "\n",
        "'Selma Blair' not in actors"
      ],
      "metadata": {
        "colab": {
          "base_uri": "https://localhost:8080/"
        },
        "id": "wExxAtlg5PzX",
        "outputId": "a8ccc097-fdcf-47ff-cad3-e08c3fdde1c3"
      },
      "execution_count": 105,
      "outputs": [
        {
          "output_type": "execute_result",
          "data": {
            "text/plain": [
              "True"
            ]
          },
          "metadata": {},
          "execution_count": 105
        }
      ]
    },
    {
      "cell_type": "markdown",
      "source": [
        "# Задачи на работу со словарями"
      ],
      "metadata": {
        "id": "8sRhKPLTFAuF"
      }
    },
    {
      "cell_type": "code",
      "source": [
        "actors[9]"
      ],
      "metadata": {
        "colab": {
          "base_uri": "https://localhost:8080/",
          "height": 36
        },
        "id": "1OM5zBfOfYFB",
        "outputId": "67cfe6b6-5806-41ef-c9a2-75f137f7a79a"
      },
      "execution_count": 106,
      "outputs": [
        {
          "output_type": "execute_result",
          "data": {
            "text/plain": [
              "'Brandon Stacy'"
            ],
            "application/vnd.google.colaboratory.intrinsic+json": {
              "type": "string"
            }
          },
          "metadata": {},
          "execution_count": 106
        }
      ]
    },
    {
      "cell_type": "code",
      "source": [
        "# создадим карточку любого актера из нашего фильма\n",
        "\n",
        "people = ia.search_person(actors[9])\n",
        "\n",
        "for person in people:\n",
        "   print(person.personID, person['name'])"
      ],
      "metadata": {
        "id": "2PuExDCoEFG_",
        "colab": {
          "base_uri": "https://localhost:8080/"
        },
        "outputId": "870af475-243b-4450-d7ac-20af57b46389"
      },
      "execution_count": 107,
      "outputs": [
        {
          "output_type": "stream",
          "name": "stdout",
          "text": [
            "1975871 Brandon Stacy\n",
            "8556093 Brandon Stacy\n",
            "2095199 Brandon Stacy Williams\n",
            "10263413 Brandon Stanley\n",
            "3411908 Brandon Stoughton\n",
            "6832762 Brandon Stewart\n",
            "8532310 Brandon Stoker\n",
            "2229284 Brandon Stein\n",
            "6808229 Brandon Straka\n",
            "7323611 Brandon Stewart\n",
            "10242127 Brandon Stiefer\n",
            "4880948 Brandon Still\n",
            "10650729 Brandon Stouff\n",
            "12941071 Brandon St. Bernard\n",
            "13196949 Brandon Constantine\n",
            "0829223 Brandon Stewart\n",
            "13754537 Brandon Stakemann\n",
            "13434988 Brandon St. Clair\n",
            "1763203 Brandon Stokley\n",
            "5180312 Brandon Rife\n"
          ]
        }
      ]
    },
    {
      "cell_type": "code",
      "source": [
        "# запишем в перменную только один результат\n",
        "\n",
        "person = ia.get_person(people[0].personID)"
      ],
      "metadata": {
        "id": "2x_WWik8Indr"
      },
      "execution_count": 108,
      "outputs": []
    },
    {
      "cell_type": "code",
      "source": [
        "person"
      ],
      "metadata": {
        "colab": {
          "base_uri": "https://localhost:8080/"
        },
        "id": "dVzht0lXgQqn",
        "outputId": "e8d3cf40-5365-4250-dcdb-abdbde22ff07"
      },
      "execution_count": 109,
      "outputs": [
        {
          "output_type": "execute_result",
          "data": {
            "text/plain": [
              "<Person id:1975871[http] name:_Brandon Stacy (I)_>"
            ]
          },
          "metadata": {},
          "execution_count": 109
        }
      ]
    },
    {
      "cell_type": "code",
      "source": [
        "person.keys()"
      ],
      "metadata": {
        "colab": {
          "base_uri": "https://localhost:8080/"
        },
        "id": "HWK3eAaQJL0S",
        "outputId": "ee7a7852-29d5-4a44-bcda-bd6dc3104c59"
      },
      "execution_count": 23,
      "outputs": [
        {
          "output_type": "execute_result",
          "data": {
            "text/plain": [
              "['headshot',\n",
              " 'imdbID',\n",
              " 'name',\n",
              " 'imdbIndex',\n",
              " 'filmography',\n",
              " 'canonical name',\n",
              " 'long imdb name',\n",
              " 'long imdb canonical name',\n",
              " 'full-size headshot']"
            ]
          },
          "metadata": {},
          "execution_count": 23
        }
      ]
    },
    {
      "cell_type": "code",
      "source": [
        "person.items()"
      ],
      "metadata": {
        "id": "jRE3qJuUJoKv",
        "colab": {
          "base_uri": "https://localhost:8080/"
        },
        "outputId": "be843c9b-95ac-44e6-9890-b698ad3f556a"
      },
      "execution_count": 24,
      "outputs": [
        {
          "output_type": "execute_result",
          "data": {
            "text/plain": [
              "[('headshot',\n",
              "  'https://m.media-amazon.com/images/M/MV5BYTIzOTU2ODAtNjc3Yi00NGRjLWEwNWItZGU3YmQyNzAzY2NmXkEyXkFqcGdeQXVyNzA2NjI5Nw@@._V1_QL75_UY207_CR13,0,140,207_.jpg'),\n",
              " ('imdbID', '1975871'),\n",
              " ('name', 'Brandon Stacy'),\n",
              " ('imdbIndex', 'I'),\n",
              " ('filmography',\n",
              "  {'actor': [<Movie id:15526990[http] title:_35mm (None)_>,\n",
              "    <Movie id:27220345[http] title:_Dad's Party (None)_>,\n",
              "    <Movie id:11097240[http] title:_Obliterated (2023)_>,\n",
              "    <Movie id:19389494[http] title:_Ashes Over Coffee (None)_>,\n",
              "    <Movie id:18163882[http] title:_Snap (2022)_>,\n",
              "    <Movie id:7111864[http] title:_Find Her (2022)_>,\n",
              "    <Movie id:13236336[http] title:_Sacrifice (2021)_>,\n",
              "    <Movie id:7440726[http] title:_Your Honor (2021) (2020)_>,\n",
              "    <Movie id:13545634[http] title:_Kristina Kringle: The Search for Santa (2020)_>,\n",
              "    <Movie id:9770432[http] title:_The Incredible Jake Parker (2020)_>,\n",
              "    <Movie id:10806810[http] title:_Sacrifice (2019)_>,\n",
              "    <Movie id:7673930[http] title:_Sunday Girl (2019)_>,\n",
              "    <Movie id:6863222[http] title:_The True Don Quixote (2019)_>,\n",
              "    <Movie id:2729716[http] title:_The Haves and the Have Nots (2018)_>,\n",
              "    <Movie id:5582444[http] title:_On the Way to Lovetown (2018)_>,\n",
              "    <Movie id:3400060[http] title:_Piranha Sharks (2017)_>,\n",
              "    <Movie id:5640558[http] title:_Claws (2017)_>,\n",
              "    <Movie id:4503366[http] title:_Blade of Honor (2017)_>,\n",
              "    <Movie id:5028002[http] title:_StartUp (2016)_>,\n",
              "    <Movie id:5714282[http] title:_Skin on Skin (2016)_>,\n",
              "    <Movie id:3315386[http] title:_Roots (2016)_>,\n",
              "    <Movie id:4522400[http] title:_Underground (2016)_>,\n",
              "    <Movie id:0458122[http] title:_Star Trek Phase II (2016) (2011)_>,\n",
              "    <Movie id:1596363[http] title:_The Big Short (2015)_>,\n",
              "    <Movie id:3250026[http] title:_Zoo (2015)_>,\n",
              "    <Movie id:1340138[http] title:_Terminator Genisys (2015)_>,\n",
              "    <Movie id:2641186[http] title:_The Lost Girls (None)_>,\n",
              "    <Movie id:1844624[http] title:_American Horror Story (2014)_>,\n",
              "    <Movie id:3560084[http] title:_NCIS: New Orleans (2014)_>,\n",
              "    <Movie id:2992538[http] title:_Guardian Angel (None)_>,\n",
              "    <Movie id:2108465[http] title:_American Girls (2013)_>,\n",
              "    <Movie id:2317484[http] title:_The Penny Dreadful Picture Show (2013)_>,\n",
              "    <Movie id:2325014[http] title:_Rabid Love (2013)_>,\n",
              "    <Movie id:2443986[http] title:_Phin (2013)_>,\n",
              "    <Movie id:2261999[http] title:_Rabid Love (2012)_>,\n",
              "    <Movie id:2033324[http] title:_MyShadow (2011)_>,\n",
              "    <Movie id:1987678[http] title:_Travel Plans (2011)_>,\n",
              "    <Movie id:1362366[http] title:_Black Cat Bone (2009)_>,\n",
              "    <Movie id:1518295[http] title:_Sycophant (2009)_>,\n",
              "    <Movie id:1547044[http] title:_Lost Tales from Camp Blood: The Director's Cut (2009)_>,\n",
              "    <Movie id:1324875[http] title:_Lost Tales from Camp Blood (2009)_>,\n",
              "    <Movie id:1344324[http] title:_Lost Tales from Camp Blood: Part 3 (2009)_>,\n",
              "    <Movie id:0814331[http] title:_Spring Breakdown (2009)_>,\n",
              "    <Movie id:1281119[http] title:_The Junkyard Willie Movie: Lost in Transit (2008)_>,\n",
              "    <Movie id:1223931[http] title:_Tangled Web (None)_>,\n",
              "    <Movie id:1220706[http] title:_Breathing Room (None)_>,\n",
              "    <Movie id:1410201[http] title:_Coupled with Love (2008)_>,\n",
              "    <Movie id:0489286[http] title:_Suffering Man's Charity (2007)_>,\n",
              "    <Movie id:0884799[http] title:_Grace & Mercy (2006)_>,\n",
              "    <Movie id:0802146[http] title:_Help Me Help You (2006)_>,\n",
              "    <Movie id:0439100[http] title:_Weeds (2006)_>,\n",
              "    <Movie id:0493093[http] title:_Hannah Montana (2006)_>,\n",
              "    <Movie id:0362359[http] title:_The O.C. (2006)_>,\n",
              "    <Movie id:0467491[http] title:_Star Trek: Hidden Frontier (2006) (2005)_>,\n",
              "    <Movie id:0460656[http] title:_Love, Inc. (2006)_>,\n",
              "    <Movie id:0375355[http] title:_Joey (2005)_>,\n",
              "    <Movie id:0165581[http] title:_The King of Queens (2005)_>,\n",
              "    <Movie id:0473348[http] title:_Dead Men Walking (2005)_>,\n",
              "    <Movie id:0469142[http] title:_Muscle (2005)_>,\n",
              "    <Movie id:0192917[http] title:_Passions (2004)_>],\n",
              "   'producer': [<Movie id:5582444[http] title:_On the Way to Lovetown (2018)_>,\n",
              "    <Movie id:2325014[http] title:_Rabid Love (2013)_>,\n",
              "    <Movie id:2261999[http] title:_Rabid Love (2012)_>,\n",
              "    <Movie id:1987678[http] title:_Travel Plans (2011)_>,\n",
              "    <Movie id:1362366[http] title:_Black Cat Bone (2009)_>,\n",
              "    <Movie id:1518295[http] title:_Sycophant (2009)_>],\n",
              "   'additional crew': [<Movie id:1408101[http] title:_Star Trek Into Darkness (2013)_>,\n",
              "    <Movie id:0796366[http] title:_Star Trek (2009)_>,\n",
              "    <Movie id:0481369[http] title:_The Number 23 (2007)_>],\n",
              "   'writer': [<Movie id:19389494[http] title:_Ashes Over Coffee (None)_>],\n",
              "   'casting department': [<Movie id:15476366[http] title:_History of Evil (None)_>],\n",
              "   'stunts': [<Movie id:4522400[http] title:_Underground (2016)_>],\n",
              "   'self': [<Movie id:5911174[http] title:_Around the Bed (2018)_>,\n",
              "    <Movie id:0856185[http] title:_Dead Men Walking: Behind the Scenes (2005)_>]}),\n",
              " ('canonical name', 'Stacy, Brandon'),\n",
              " ('long imdb name', 'Brandon Stacy (I)'),\n",
              " ('long imdb canonical name', 'Stacy, Brandon (I)'),\n",
              " ('full-size headshot',\n",
              "  'https://m.media-amazon.com/images/M/MV5BYTIzOTU2ODAtNjc3Yi00NGRjLWEwNWItZGU3YmQyNzAzY2NmXkEyXkFqcGdeQXVyNzA2NjI5Nw@@.jpg')]"
            ]
          },
          "metadata": {},
          "execution_count": 24
        }
      ]
    },
    {
      "cell_type": "code",
      "source": [
        "# составим из этих элементов карточку следующего вида\n",
        "# [\n",
        "#    актер :\n",
        "#             {\n",
        "#               фильмы : список фильмов\n",
        "#               жанры : список жанров\n",
        "#             }\n",
        "# ]\n",
        "#\n",
        "# начнем с создания списка фильмов\n",
        "# создаем пустой список\n",
        "\n",
        "films = []\n",
        "\n",
        "# для каждого фильма в person['filmography']['###']\n",
        "# вносим в список новый элемент\n",
        "\n",
        "try:\n",
        "  for title in person['filmography']['actress']:\n",
        "    films.append(title['title'])\n",
        "except KeyError:\n",
        "  for title in person['filmography']['actor']:\n",
        "    films.append(title['title'])\n",
        "\n",
        "\n",
        "films[:10]"
      ],
      "metadata": {
        "id": "rqL8zMq8JrTw",
        "colab": {
          "base_uri": "https://localhost:8080/"
        },
        "outputId": "3245b34d-0fea-4af9-a286-75d52fe21481"
      },
      "execution_count": 110,
      "outputs": [
        {
          "output_type": "execute_result",
          "data": {
            "text/plain": [
              "['35mm',\n",
              " \"Dad's Party\",\n",
              " 'Obliterated',\n",
              " 'Ashes Over Coffee',\n",
              " 'Snap',\n",
              " 'Find Her',\n",
              " 'Sacrifice',\n",
              " 'Your Honor',\n",
              " 'Kristina Kringle: The Search for Santa',\n",
              " 'The Incredible Jake Parker']"
            ]
          },
          "metadata": {},
          "execution_count": 110
        }
      ]
    },
    {
      "cell_type": "code",
      "source": [
        "filmography = person['filmography']\n",
        "\n",
        "try:\n",
        "    film_list = filmography['actress']\n",
        "except KeyError:\n",
        "    film_list = filmography['actor']\n",
        "\n",
        "for title in film_list:\n",
        "  films.append(title['title'])"
      ],
      "metadata": {
        "id": "fQKvi07tapi4"
      },
      "execution_count": 123,
      "outputs": []
    },
    {
      "cell_type": "code",
      "source": [
        "films"
      ],
      "metadata": {
        "colab": {
          "base_uri": "https://localhost:8080/"
        },
        "id": "g2csu0tbY7eL",
        "outputId": "329794a5-ce9c-4afa-b21a-14993b665ce0"
      },
      "execution_count": 112,
      "outputs": [
        {
          "output_type": "execute_result",
          "data": {
            "text/plain": [
              "['35mm',\n",
              " \"Dad's Party\",\n",
              " 'Obliterated',\n",
              " 'Ashes Over Coffee',\n",
              " 'Snap',\n",
              " 'Find Her',\n",
              " 'Sacrifice',\n",
              " 'Your Honor',\n",
              " 'Kristina Kringle: The Search for Santa',\n",
              " 'The Incredible Jake Parker',\n",
              " 'Sacrifice',\n",
              " 'Sunday Girl',\n",
              " 'The True Don Quixote',\n",
              " 'The Haves and the Have Nots',\n",
              " 'On the Way to Lovetown',\n",
              " 'Piranha Sharks',\n",
              " 'Claws',\n",
              " 'Blade of Honor',\n",
              " 'StartUp',\n",
              " 'Skin on Skin',\n",
              " 'Roots',\n",
              " 'Underground',\n",
              " 'Star Trek Phase II',\n",
              " 'The Big Short',\n",
              " 'Zoo',\n",
              " 'Terminator Genisys',\n",
              " 'The Lost Girls',\n",
              " 'American Horror Story',\n",
              " 'NCIS: New Orleans',\n",
              " 'Guardian Angel',\n",
              " 'American Girls',\n",
              " 'The Penny Dreadful Picture Show',\n",
              " 'Rabid Love',\n",
              " 'Phin',\n",
              " 'Rabid Love',\n",
              " 'MyShadow',\n",
              " 'Travel Plans',\n",
              " 'Black Cat Bone',\n",
              " 'Sycophant',\n",
              " \"Lost Tales from Camp Blood: The Director's Cut\",\n",
              " 'Lost Tales from Camp Blood',\n",
              " 'Lost Tales from Camp Blood: Part 3',\n",
              " 'Spring Breakdown',\n",
              " 'The Junkyard Willie Movie: Lost in Transit',\n",
              " 'Tangled Web',\n",
              " 'Breathing Room',\n",
              " 'Coupled with Love',\n",
              " \"Suffering Man's Charity\",\n",
              " 'Grace & Mercy',\n",
              " 'Help Me Help You',\n",
              " 'Weeds',\n",
              " 'Hannah Montana',\n",
              " 'The O.C.',\n",
              " 'Star Trek: Hidden Frontier',\n",
              " 'Love, Inc.',\n",
              " 'Joey',\n",
              " 'The King of Queens',\n",
              " 'Dead Men Walking',\n",
              " 'Muscle',\n",
              " 'Passions',\n",
              " '35mm',\n",
              " \"Dad's Party\",\n",
              " 'Obliterated',\n",
              " 'Ashes Over Coffee',\n",
              " 'Snap',\n",
              " 'Find Her',\n",
              " 'Sacrifice',\n",
              " 'Your Honor',\n",
              " 'Kristina Kringle: The Search for Santa',\n",
              " 'The Incredible Jake Parker',\n",
              " 'Sacrifice',\n",
              " 'Sunday Girl',\n",
              " 'The True Don Quixote',\n",
              " 'The Haves and the Have Nots',\n",
              " 'On the Way to Lovetown',\n",
              " 'Piranha Sharks',\n",
              " 'Claws',\n",
              " 'Blade of Honor',\n",
              " 'StartUp',\n",
              " 'Skin on Skin',\n",
              " 'Roots',\n",
              " 'Underground',\n",
              " 'Star Trek Phase II',\n",
              " 'The Big Short',\n",
              " 'Zoo',\n",
              " 'Terminator Genisys',\n",
              " 'The Lost Girls',\n",
              " 'American Horror Story',\n",
              " 'NCIS: New Orleans',\n",
              " 'Guardian Angel',\n",
              " 'American Girls',\n",
              " 'The Penny Dreadful Picture Show',\n",
              " 'Rabid Love',\n",
              " 'Phin',\n",
              " 'Rabid Love',\n",
              " 'MyShadow',\n",
              " 'Travel Plans',\n",
              " 'Black Cat Bone',\n",
              " 'Sycophant',\n",
              " \"Lost Tales from Camp Blood: The Director's Cut\",\n",
              " 'Lost Tales from Camp Blood',\n",
              " 'Lost Tales from Camp Blood: Part 3',\n",
              " 'Spring Breakdown',\n",
              " 'The Junkyard Willie Movie: Lost in Transit',\n",
              " 'Tangled Web',\n",
              " 'Breathing Room',\n",
              " 'Coupled with Love',\n",
              " \"Suffering Man's Charity\",\n",
              " 'Grace & Mercy',\n",
              " 'Help Me Help You',\n",
              " 'Weeds',\n",
              " 'Hannah Montana',\n",
              " 'The O.C.',\n",
              " 'Star Trek: Hidden Frontier',\n",
              " 'Love, Inc.',\n",
              " 'Joey',\n",
              " 'The King of Queens',\n",
              " 'Dead Men Walking',\n",
              " 'Muscle',\n",
              " 'Passions']"
            ]
          },
          "metadata": {},
          "execution_count": 112
        }
      ]
    },
    {
      "cell_type": "code",
      "source": [
        "# теперь для каждого из найденных фильмов извлечем жанр\n",
        "# и тоже запишем все это в список\n",
        "\n",
        "# создаем пустой список для жанров\n",
        "\n",
        "genres = []\n",
        "\n",
        "# для каждого фильма из списка с фильмами\n",
        "# ищем подходящие фильмы в IMDB: ia.search_movie()\n",
        "# записываем в переменную ID этого фильма: ia.get_movie(movie.movieID)\n",
        "# извлекаем жанры, записываем во временную переменную\n",
        "# записываем жанры в список жанров\n",
        "\n",
        "for title in films[:5]:\n",
        "  film_list = ia.search_movie(title)\n",
        "  film = ia.get_movie(film_list[0].movieID)\n",
        "  temp = film['genres'][0]\n",
        "  genres.append(temp)\n",
        "\n",
        "genres"
      ],
      "metadata": {
        "id": "MdMA4jSBK5yZ",
        "colab": {
          "base_uri": "https://localhost:8080/"
        },
        "outputId": "b8ecbd3a-0924-40b5-c41b-dfac67c2a2ce"
      },
      "execution_count": 124,
      "outputs": [
        {
          "output_type": "execute_result",
          "data": {
            "text/plain": [
              "['Adventure', 'Drama', 'Action', 'Short', 'Drama']"
            ]
          },
          "metadata": {},
          "execution_count": 124
        }
      ]
    },
    {
      "cell_type": "code",
      "source": [
        "# наши жанры повторяются\n",
        "\n",
        "genres"
      ],
      "metadata": {
        "colab": {
          "base_uri": "https://localhost:8080/"
        },
        "id": "8Z36xTMcK6Xs",
        "outputId": "a7486a1f-a3e5-405b-c388-c46ca691b68d"
      },
      "execution_count": 114,
      "outputs": [
        {
          "output_type": "execute_result",
          "data": {
            "text/plain": [
              "['Adventure', 'Drama', 'Action', 'Short', 'Drama']"
            ]
          },
          "metadata": {},
          "execution_count": 114
        }
      ]
    },
    {
      "cell_type": "code",
      "source": [
        "# преобразуем список во множество\n",
        "\n",
        "genres = set(genres)\n",
        "genres"
      ],
      "metadata": {
        "colab": {
          "base_uri": "https://localhost:8080/"
        },
        "id": "CZoZrdoLNs0l",
        "outputId": "d8088e1d-0498-4c06-e211-3421bb32b38e"
      },
      "execution_count": 115,
      "outputs": [
        {
          "output_type": "execute_result",
          "data": {
            "text/plain": [
              "{'Action', 'Adventure', 'Drama', 'Short'}"
            ]
          },
          "metadata": {},
          "execution_count": 115
        }
      ]
    },
    {
      "cell_type": "code",
      "source": [
        "# теперь мы можем собрать информацию об актере в карточку\n",
        "# [\n",
        "#    актер :\n",
        "#             {\n",
        "#               фильмы : список фильмов\n",
        "#               жанры : список жанров\n",
        "#             }\n",
        "# ]\n",
        "#\n",
        "\n",
        "# сначала создаем словарь с фильмами и жанрами\n",
        "\n",
        "actress = dict()\n",
        "actress['films'] = films\n",
        "actress['genres'] = genres\n",
        "actress"
      ],
      "metadata": {
        "id": "_RtAgCoRN033",
        "colab": {
          "base_uri": "https://localhost:8080/"
        },
        "outputId": "719183d9-f753-4bab-f7a3-b348b53ae973"
      },
      "execution_count": 125,
      "outputs": [
        {
          "output_type": "execute_result",
          "data": {
            "text/plain": [
              "{'films': ['35mm',\n",
              "  \"Dad's Party\",\n",
              "  'Obliterated',\n",
              "  'Ashes Over Coffee',\n",
              "  'Snap',\n",
              "  'Find Her',\n",
              "  'Sacrifice',\n",
              "  'Your Honor',\n",
              "  'Kristina Kringle: The Search for Santa',\n",
              "  'The Incredible Jake Parker',\n",
              "  'Sacrifice',\n",
              "  'Sunday Girl',\n",
              "  'The True Don Quixote',\n",
              "  'The Haves and the Have Nots',\n",
              "  'On the Way to Lovetown',\n",
              "  'Piranha Sharks',\n",
              "  'Claws',\n",
              "  'Blade of Honor',\n",
              "  'StartUp',\n",
              "  'Skin on Skin',\n",
              "  'Roots',\n",
              "  'Underground',\n",
              "  'Star Trek Phase II',\n",
              "  'The Big Short',\n",
              "  'Zoo',\n",
              "  'Terminator Genisys',\n",
              "  'The Lost Girls',\n",
              "  'American Horror Story',\n",
              "  'NCIS: New Orleans',\n",
              "  'Guardian Angel',\n",
              "  'American Girls',\n",
              "  'The Penny Dreadful Picture Show',\n",
              "  'Rabid Love',\n",
              "  'Phin',\n",
              "  'Rabid Love',\n",
              "  'MyShadow',\n",
              "  'Travel Plans',\n",
              "  'Black Cat Bone',\n",
              "  'Sycophant',\n",
              "  \"Lost Tales from Camp Blood: The Director's Cut\",\n",
              "  'Lost Tales from Camp Blood',\n",
              "  'Lost Tales from Camp Blood: Part 3',\n",
              "  'Spring Breakdown',\n",
              "  'The Junkyard Willie Movie: Lost in Transit',\n",
              "  'Tangled Web',\n",
              "  'Breathing Room',\n",
              "  'Coupled with Love',\n",
              "  \"Suffering Man's Charity\",\n",
              "  'Grace & Mercy',\n",
              "  'Help Me Help You',\n",
              "  'Weeds',\n",
              "  'Hannah Montana',\n",
              "  'The O.C.',\n",
              "  'Star Trek: Hidden Frontier',\n",
              "  'Love, Inc.',\n",
              "  'Joey',\n",
              "  'The King of Queens',\n",
              "  'Dead Men Walking',\n",
              "  'Muscle',\n",
              "  'Passions',\n",
              "  '35mm',\n",
              "  \"Dad's Party\",\n",
              "  'Obliterated',\n",
              "  'Ashes Over Coffee',\n",
              "  'Snap',\n",
              "  'Find Her',\n",
              "  'Sacrifice',\n",
              "  'Your Honor',\n",
              "  'Kristina Kringle: The Search for Santa',\n",
              "  'The Incredible Jake Parker',\n",
              "  'Sacrifice',\n",
              "  'Sunday Girl',\n",
              "  'The True Don Quixote',\n",
              "  'The Haves and the Have Nots',\n",
              "  'On the Way to Lovetown',\n",
              "  'Piranha Sharks',\n",
              "  'Claws',\n",
              "  'Blade of Honor',\n",
              "  'StartUp',\n",
              "  'Skin on Skin',\n",
              "  'Roots',\n",
              "  'Underground',\n",
              "  'Star Trek Phase II',\n",
              "  'The Big Short',\n",
              "  'Zoo',\n",
              "  'Terminator Genisys',\n",
              "  'The Lost Girls',\n",
              "  'American Horror Story',\n",
              "  'NCIS: New Orleans',\n",
              "  'Guardian Angel',\n",
              "  'American Girls',\n",
              "  'The Penny Dreadful Picture Show',\n",
              "  'Rabid Love',\n",
              "  'Phin',\n",
              "  'Rabid Love',\n",
              "  'MyShadow',\n",
              "  'Travel Plans',\n",
              "  'Black Cat Bone',\n",
              "  'Sycophant',\n",
              "  \"Lost Tales from Camp Blood: The Director's Cut\",\n",
              "  'Lost Tales from Camp Blood',\n",
              "  'Lost Tales from Camp Blood: Part 3',\n",
              "  'Spring Breakdown',\n",
              "  'The Junkyard Willie Movie: Lost in Transit',\n",
              "  'Tangled Web',\n",
              "  'Breathing Room',\n",
              "  'Coupled with Love',\n",
              "  \"Suffering Man's Charity\",\n",
              "  'Grace & Mercy',\n",
              "  'Help Me Help You',\n",
              "  'Weeds',\n",
              "  'Hannah Montana',\n",
              "  'The O.C.',\n",
              "  'Star Trek: Hidden Frontier',\n",
              "  'Love, Inc.',\n",
              "  'Joey',\n",
              "  'The King of Queens',\n",
              "  'Dead Men Walking',\n",
              "  'Muscle',\n",
              "  'Passions',\n",
              "  '35mm',\n",
              "  \"Dad's Party\",\n",
              "  'Obliterated',\n",
              "  'Ashes Over Coffee',\n",
              "  'Snap',\n",
              "  'Find Her',\n",
              "  'Sacrifice',\n",
              "  'Your Honor',\n",
              "  'Kristina Kringle: The Search for Santa',\n",
              "  'The Incredible Jake Parker',\n",
              "  'Sacrifice',\n",
              "  'Sunday Girl',\n",
              "  'The True Don Quixote',\n",
              "  'The Haves and the Have Nots',\n",
              "  'On the Way to Lovetown',\n",
              "  'Piranha Sharks',\n",
              "  'Claws',\n",
              "  'Blade of Honor',\n",
              "  'StartUp',\n",
              "  'Skin on Skin',\n",
              "  'Roots',\n",
              "  'Underground',\n",
              "  'Star Trek Phase II',\n",
              "  'The Big Short',\n",
              "  'Zoo',\n",
              "  'Terminator Genisys',\n",
              "  'The Lost Girls',\n",
              "  'American Horror Story',\n",
              "  'NCIS: New Orleans',\n",
              "  'Guardian Angel',\n",
              "  'American Girls',\n",
              "  'The Penny Dreadful Picture Show',\n",
              "  'Rabid Love',\n",
              "  'Phin',\n",
              "  'Rabid Love',\n",
              "  'MyShadow',\n",
              "  'Travel Plans',\n",
              "  'Black Cat Bone',\n",
              "  'Sycophant',\n",
              "  \"Lost Tales from Camp Blood: The Director's Cut\",\n",
              "  'Lost Tales from Camp Blood',\n",
              "  'Lost Tales from Camp Blood: Part 3',\n",
              "  'Spring Breakdown',\n",
              "  'The Junkyard Willie Movie: Lost in Transit',\n",
              "  'Tangled Web',\n",
              "  'Breathing Room',\n",
              "  'Coupled with Love',\n",
              "  \"Suffering Man's Charity\",\n",
              "  'Grace & Mercy',\n",
              "  'Help Me Help You',\n",
              "  'Weeds',\n",
              "  'Hannah Montana',\n",
              "  'The O.C.',\n",
              "  'Star Trek: Hidden Frontier',\n",
              "  'Love, Inc.',\n",
              "  'Joey',\n",
              "  'The King of Queens',\n",
              "  'Dead Men Walking',\n",
              "  'Muscle',\n",
              "  'Passions'],\n",
              " 'genres': ['Adventure', 'Drama', 'Action', 'Short', 'Drama']}"
            ]
          },
          "metadata": {},
          "execution_count": 125
        }
      ]
    },
    {
      "cell_type": "code",
      "source": [
        "# теперь временный словарь, в котором мы соединим эту информацию с именем актера\n",
        "\n",
        "temp = dict()\n",
        "temp[person['canonical name']] = actress\n",
        "\n",
        "temp"
      ],
      "metadata": {
        "id": "pjxwcxH9OTk3",
        "colab": {
          "base_uri": "https://localhost:8080/"
        },
        "outputId": "c5a015eb-d1c3-47f9-d54a-78409e6e1e41"
      },
      "execution_count": 128,
      "outputs": [
        {
          "output_type": "execute_result",
          "data": {
            "text/plain": [
              "{'Stacy, Brandon': {'films': ['35mm',\n",
              "   \"Dad's Party\",\n",
              "   'Obliterated',\n",
              "   'Ashes Over Coffee',\n",
              "   'Snap',\n",
              "   'Find Her',\n",
              "   'Sacrifice',\n",
              "   'Your Honor',\n",
              "   'Kristina Kringle: The Search for Santa',\n",
              "   'The Incredible Jake Parker',\n",
              "   'Sacrifice',\n",
              "   'Sunday Girl',\n",
              "   'The True Don Quixote',\n",
              "   'The Haves and the Have Nots',\n",
              "   'On the Way to Lovetown',\n",
              "   'Piranha Sharks',\n",
              "   'Claws',\n",
              "   'Blade of Honor',\n",
              "   'StartUp',\n",
              "   'Skin on Skin',\n",
              "   'Roots',\n",
              "   'Underground',\n",
              "   'Star Trek Phase II',\n",
              "   'The Big Short',\n",
              "   'Zoo',\n",
              "   'Terminator Genisys',\n",
              "   'The Lost Girls',\n",
              "   'American Horror Story',\n",
              "   'NCIS: New Orleans',\n",
              "   'Guardian Angel',\n",
              "   'American Girls',\n",
              "   'The Penny Dreadful Picture Show',\n",
              "   'Rabid Love',\n",
              "   'Phin',\n",
              "   'Rabid Love',\n",
              "   'MyShadow',\n",
              "   'Travel Plans',\n",
              "   'Black Cat Bone',\n",
              "   'Sycophant',\n",
              "   \"Lost Tales from Camp Blood: The Director's Cut\",\n",
              "   'Lost Tales from Camp Blood',\n",
              "   'Lost Tales from Camp Blood: Part 3',\n",
              "   'Spring Breakdown',\n",
              "   'The Junkyard Willie Movie: Lost in Transit',\n",
              "   'Tangled Web',\n",
              "   'Breathing Room',\n",
              "   'Coupled with Love',\n",
              "   \"Suffering Man's Charity\",\n",
              "   'Grace & Mercy',\n",
              "   'Help Me Help You',\n",
              "   'Weeds',\n",
              "   'Hannah Montana',\n",
              "   'The O.C.',\n",
              "   'Star Trek: Hidden Frontier',\n",
              "   'Love, Inc.',\n",
              "   'Joey',\n",
              "   'The King of Queens',\n",
              "   'Dead Men Walking',\n",
              "   'Muscle',\n",
              "   'Passions',\n",
              "   '35mm',\n",
              "   \"Dad's Party\",\n",
              "   'Obliterated',\n",
              "   'Ashes Over Coffee',\n",
              "   'Snap',\n",
              "   'Find Her',\n",
              "   'Sacrifice',\n",
              "   'Your Honor',\n",
              "   'Kristina Kringle: The Search for Santa',\n",
              "   'The Incredible Jake Parker',\n",
              "   'Sacrifice',\n",
              "   'Sunday Girl',\n",
              "   'The True Don Quixote',\n",
              "   'The Haves and the Have Nots',\n",
              "   'On the Way to Lovetown',\n",
              "   'Piranha Sharks',\n",
              "   'Claws',\n",
              "   'Blade of Honor',\n",
              "   'StartUp',\n",
              "   'Skin on Skin',\n",
              "   'Roots',\n",
              "   'Underground',\n",
              "   'Star Trek Phase II',\n",
              "   'The Big Short',\n",
              "   'Zoo',\n",
              "   'Terminator Genisys',\n",
              "   'The Lost Girls',\n",
              "   'American Horror Story',\n",
              "   'NCIS: New Orleans',\n",
              "   'Guardian Angel',\n",
              "   'American Girls',\n",
              "   'The Penny Dreadful Picture Show',\n",
              "   'Rabid Love',\n",
              "   'Phin',\n",
              "   'Rabid Love',\n",
              "   'MyShadow',\n",
              "   'Travel Plans',\n",
              "   'Black Cat Bone',\n",
              "   'Sycophant',\n",
              "   \"Lost Tales from Camp Blood: The Director's Cut\",\n",
              "   'Lost Tales from Camp Blood',\n",
              "   'Lost Tales from Camp Blood: Part 3',\n",
              "   'Spring Breakdown',\n",
              "   'The Junkyard Willie Movie: Lost in Transit',\n",
              "   'Tangled Web',\n",
              "   'Breathing Room',\n",
              "   'Coupled with Love',\n",
              "   \"Suffering Man's Charity\",\n",
              "   'Grace & Mercy',\n",
              "   'Help Me Help You',\n",
              "   'Weeds',\n",
              "   'Hannah Montana',\n",
              "   'The O.C.',\n",
              "   'Star Trek: Hidden Frontier',\n",
              "   'Love, Inc.',\n",
              "   'Joey',\n",
              "   'The King of Queens',\n",
              "   'Dead Men Walking',\n",
              "   'Muscle',\n",
              "   'Passions',\n",
              "   '35mm',\n",
              "   \"Dad's Party\",\n",
              "   'Obliterated',\n",
              "   'Ashes Over Coffee',\n",
              "   'Snap',\n",
              "   'Find Her',\n",
              "   'Sacrifice',\n",
              "   'Your Honor',\n",
              "   'Kristina Kringle: The Search for Santa',\n",
              "   'The Incredible Jake Parker',\n",
              "   'Sacrifice',\n",
              "   'Sunday Girl',\n",
              "   'The True Don Quixote',\n",
              "   'The Haves and the Have Nots',\n",
              "   'On the Way to Lovetown',\n",
              "   'Piranha Sharks',\n",
              "   'Claws',\n",
              "   'Blade of Honor',\n",
              "   'StartUp',\n",
              "   'Skin on Skin',\n",
              "   'Roots',\n",
              "   'Underground',\n",
              "   'Star Trek Phase II',\n",
              "   'The Big Short',\n",
              "   'Zoo',\n",
              "   'Terminator Genisys',\n",
              "   'The Lost Girls',\n",
              "   'American Horror Story',\n",
              "   'NCIS: New Orleans',\n",
              "   'Guardian Angel',\n",
              "   'American Girls',\n",
              "   'The Penny Dreadful Picture Show',\n",
              "   'Rabid Love',\n",
              "   'Phin',\n",
              "   'Rabid Love',\n",
              "   'MyShadow',\n",
              "   'Travel Plans',\n",
              "   'Black Cat Bone',\n",
              "   'Sycophant',\n",
              "   \"Lost Tales from Camp Blood: The Director's Cut\",\n",
              "   'Lost Tales from Camp Blood',\n",
              "   'Lost Tales from Camp Blood: Part 3',\n",
              "   'Spring Breakdown',\n",
              "   'The Junkyard Willie Movie: Lost in Transit',\n",
              "   'Tangled Web',\n",
              "   'Breathing Room',\n",
              "   'Coupled with Love',\n",
              "   \"Suffering Man's Charity\",\n",
              "   'Grace & Mercy',\n",
              "   'Help Me Help You',\n",
              "   'Weeds',\n",
              "   'Hannah Montana',\n",
              "   'The O.C.',\n",
              "   'Star Trek: Hidden Frontier',\n",
              "   'Love, Inc.',\n",
              "   'Joey',\n",
              "   'The King of Queens',\n",
              "   'Dead Men Walking',\n",
              "   'Muscle',\n",
              "   'Passions'],\n",
              "  'genres': ['Adventure', 'Drama', 'Action', 'Short', 'Drama']}}"
            ]
          },
          "metadata": {},
          "execution_count": 128
        }
      ]
    },
    {
      "cell_type": "code",
      "source": [
        "# карточка готова, но мы наверняка захотим добавить туда еще актеров\n",
        "# создаем хранилище карточек в виде списка и вносим туда первую карточку с append\n",
        "\n",
        "cards = []\n",
        "cards.append(temp)\n",
        "\n",
        "cards"
      ],
      "metadata": {
        "colab": {
          "base_uri": "https://localhost:8080/"
        },
        "id": "sPE1W57QPNYp",
        "outputId": "a665314e-f8fc-4312-c1a5-37778e5d8e1d"
      },
      "execution_count": 118,
      "outputs": [
        {
          "output_type": "execute_result",
          "data": {
            "text/plain": [
              "[{'Stacy, Brandon': {'films': ['35mm',\n",
              "    \"Dad's Party\",\n",
              "    'Obliterated',\n",
              "    'Ashes Over Coffee',\n",
              "    'Snap',\n",
              "    'Find Her',\n",
              "    'Sacrifice',\n",
              "    'Your Honor',\n",
              "    'Kristina Kringle: The Search for Santa',\n",
              "    'The Incredible Jake Parker',\n",
              "    'Sacrifice',\n",
              "    'Sunday Girl',\n",
              "    'The True Don Quixote',\n",
              "    'The Haves and the Have Nots',\n",
              "    'On the Way to Lovetown',\n",
              "    'Piranha Sharks',\n",
              "    'Claws',\n",
              "    'Blade of Honor',\n",
              "    'StartUp',\n",
              "    'Skin on Skin',\n",
              "    'Roots',\n",
              "    'Underground',\n",
              "    'Star Trek Phase II',\n",
              "    'The Big Short',\n",
              "    'Zoo',\n",
              "    'Terminator Genisys',\n",
              "    'The Lost Girls',\n",
              "    'American Horror Story',\n",
              "    'NCIS: New Orleans',\n",
              "    'Guardian Angel',\n",
              "    'American Girls',\n",
              "    'The Penny Dreadful Picture Show',\n",
              "    'Rabid Love',\n",
              "    'Phin',\n",
              "    'Rabid Love',\n",
              "    'MyShadow',\n",
              "    'Travel Plans',\n",
              "    'Black Cat Bone',\n",
              "    'Sycophant',\n",
              "    \"Lost Tales from Camp Blood: The Director's Cut\",\n",
              "    'Lost Tales from Camp Blood',\n",
              "    'Lost Tales from Camp Blood: Part 3',\n",
              "    'Spring Breakdown',\n",
              "    'The Junkyard Willie Movie: Lost in Transit',\n",
              "    'Tangled Web',\n",
              "    'Breathing Room',\n",
              "    'Coupled with Love',\n",
              "    \"Suffering Man's Charity\",\n",
              "    'Grace & Mercy',\n",
              "    'Help Me Help You',\n",
              "    'Weeds',\n",
              "    'Hannah Montana',\n",
              "    'The O.C.',\n",
              "    'Star Trek: Hidden Frontier',\n",
              "    'Love, Inc.',\n",
              "    'Joey',\n",
              "    'The King of Queens',\n",
              "    'Dead Men Walking',\n",
              "    'Muscle',\n",
              "    'Passions',\n",
              "    '35mm',\n",
              "    \"Dad's Party\",\n",
              "    'Obliterated',\n",
              "    'Ashes Over Coffee',\n",
              "    'Snap',\n",
              "    'Find Her',\n",
              "    'Sacrifice',\n",
              "    'Your Honor',\n",
              "    'Kristina Kringle: The Search for Santa',\n",
              "    'The Incredible Jake Parker',\n",
              "    'Sacrifice',\n",
              "    'Sunday Girl',\n",
              "    'The True Don Quixote',\n",
              "    'The Haves and the Have Nots',\n",
              "    'On the Way to Lovetown',\n",
              "    'Piranha Sharks',\n",
              "    'Claws',\n",
              "    'Blade of Honor',\n",
              "    'StartUp',\n",
              "    'Skin on Skin',\n",
              "    'Roots',\n",
              "    'Underground',\n",
              "    'Star Trek Phase II',\n",
              "    'The Big Short',\n",
              "    'Zoo',\n",
              "    'Terminator Genisys',\n",
              "    'The Lost Girls',\n",
              "    'American Horror Story',\n",
              "    'NCIS: New Orleans',\n",
              "    'Guardian Angel',\n",
              "    'American Girls',\n",
              "    'The Penny Dreadful Picture Show',\n",
              "    'Rabid Love',\n",
              "    'Phin',\n",
              "    'Rabid Love',\n",
              "    'MyShadow',\n",
              "    'Travel Plans',\n",
              "    'Black Cat Bone',\n",
              "    'Sycophant',\n",
              "    \"Lost Tales from Camp Blood: The Director's Cut\",\n",
              "    'Lost Tales from Camp Blood',\n",
              "    'Lost Tales from Camp Blood: Part 3',\n",
              "    'Spring Breakdown',\n",
              "    'The Junkyard Willie Movie: Lost in Transit',\n",
              "    'Tangled Web',\n",
              "    'Breathing Room',\n",
              "    'Coupled with Love',\n",
              "    \"Suffering Man's Charity\",\n",
              "    'Grace & Mercy',\n",
              "    'Help Me Help You',\n",
              "    'Weeds',\n",
              "    'Hannah Montana',\n",
              "    'The O.C.',\n",
              "    'Star Trek: Hidden Frontier',\n",
              "    'Love, Inc.',\n",
              "    'Joey',\n",
              "    'The King of Queens',\n",
              "    'Dead Men Walking',\n",
              "    'Muscle',\n",
              "    'Passions'],\n",
              "   'genres': {'Action', 'Adventure', 'Drama', 'Short'}}}]"
            ]
          },
          "metadata": {},
          "execution_count": 118
        }
      ]
    },
    {
      "cell_type": "code",
      "source": [],
      "metadata": {
        "id": "LxpCaqCpKKX2"
      },
      "execution_count": 59,
      "outputs": []
    },
    {
      "cell_type": "code",
      "source": [
        "def get_value(key):\n",
        "    try:\n",
        "        return film[key]\n",
        "    except KeyError:\n",
        "        pass\n",
        "\n",
        "for title in films[5:15]:\n",
        "   film_list = ia.search_movie(title)\n",
        "   film = ia.get_movie(film_list[0].movieID)\n",
        "\n",
        "   list(genres).append(get_value('genres'))\n",
        "   languages.append(get_value('languages'))\n",
        "   years.append(get_value('year'))\n",
        "   ratings.append(get_value('rating'))"
      ],
      "metadata": {
        "id": "qPsJIvcohHJb"
      },
      "execution_count": 120,
      "outputs": []
    },
    {
      "cell_type": "code",
      "source": [
        "genres"
      ],
      "metadata": {
        "id": "OBZuHUx7hqTS",
        "outputId": "d61ca2df-6d5e-40e4-aeda-f4b11a49299f",
        "colab": {
          "base_uri": "https://localhost:8080/"
        }
      },
      "execution_count": 184,
      "outputs": [
        {
          "output_type": "execute_result",
          "data": {
            "text/plain": [
              "[]"
            ]
          },
          "metadata": {},
          "execution_count": 184
        }
      ]
    },
    {
      "cell_type": "markdown",
      "source": [
        "Задание:\n",
        "\n",
        "- Создать карточки для 5 актеров одного (любого фильма) - можно больше, главное, чтобы ваш код масштабировался до любого количества актеров\n",
        "- В карточке каждого актера должна содержаться следующая информация:\n",
        " * фильмография в качестве актера\n",
        " * несколько жанров\n",
        " * год выпуска фильмов, где снимался актер\n",
        " * языки, на которых сняты эти фильмы\n",
        " * рейтинги этих фильмов\n",
        "\n",
        "Создание карточек должно быть автоматизировано: за один цикл работы программы должна создаваться одна карточка. Чтобы программа не работала слишком долго, можно сократить количество извлеченных фильмов до пяти, извлекать только один жанр, один язык, где их несколько.\n",
        "\n",
        "Если этого мало: используйте функции для своей работы (аргументами функции может быть количество актеров, количество фильмов и т.д.), добавьте к фильмографии синопсисы."
      ],
      "metadata": {
        "id": "d-Q6tLj6QVUj"
      }
    },
    {
      "cell_type": "code",
      "source": [
        "actors_info = get_actor_info(movie_id, 5)\n",
        "\n",
        "for actor_info in actors_info:\n",
        "    actor_name = actor_info['actor_name']\n",
        "    filmography = actor_info['filmography']\n",
        "    genres = actor_info['genres']\n",
        "    years = actor_info['years']\n",
        "    languages = actor_info['languages']\n",
        "    ratings = actor_info['ratings']\n",
        "\n",
        "    if languages:\n",
        "        primary_language = languages[0]\n",
        "    else:\n",
        "        primary_language = \"Unknown\"\n",
        "\n",
        "    print(f\"Actor: {actor_name}\")\n",
        "    print(f\"Filmography: {filmography}\")\n",
        "    print(f\"Genres: {genres}\")\n",
        "    print(f\"Years: {years}\")\n",
        "    print(f\"Primary Language: {primary_language}\")\n",
        "    print(f\"Ratings: {ratings}\")\n",
        "    print(\"-----------------\")\n",
        "\n",
        "\n",
        "\n",
        "\n",
        "\n"
      ],
      "metadata": {
        "colab": {
          "base_uri": "https://localhost:8080/"
        },
        "id": "_zJJcctPLGxI",
        "outputId": "65f1c428-3c90-4e78-8ca2-9a2594177d80"
      },
      "execution_count": 185,
      "outputs": [
        {
          "output_type": "stream",
          "name": "stdout",
          "text": [
            "Actor: Ryan Gosling\n",
            "Filmography: []\n",
            "Genres: []\n",
            "Years: []\n",
            "Primary Language: Unknown\n",
            "Ratings: []\n",
            "-----------------\n",
            "Actor: Rudy Eisenzopf\n",
            "Filmography: []\n",
            "Genres: []\n",
            "Years: []\n",
            "Primary Language: Unknown\n",
            "Ratings: []\n",
            "-----------------\n",
            "Actor: Casey Groves\n",
            "Filmography: []\n",
            "Genres: []\n",
            "Years: []\n",
            "Primary Language: Unknown\n",
            "Ratings: []\n",
            "-----------------\n",
            "Actor: Charlie Talbert\n",
            "Filmography: []\n",
            "Genres: []\n",
            "Years: []\n",
            "Primary Language: Unknown\n",
            "Ratings: []\n",
            "-----------------\n",
            "Actor: Harold Gervais\n",
            "Filmography: []\n",
            "Genres: []\n",
            "Years: []\n",
            "Primary Language: Unknown\n",
            "Ratings: []\n",
            "-----------------\n"
          ]
        }
      ]
    }
  ]
}